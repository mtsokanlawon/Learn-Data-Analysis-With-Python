{
 "cells": [
  {
   "cell_type": "code",
   "execution_count": 10,
   "id": "16eb21c2",
   "metadata": {
    "scrolled": false
   },
   "outputs": [
    {
     "name": "stdout",
     "output_type": "stream",
     "text": [
      "welcome to dicerolls game\n",
      "do you wish to start rolling?(y/n):y\n",
      "dice rolling...\n",
      "results are: \n",
      "6\n",
      "5\n",
      "do you wish to roll again?(y/n):y\n",
      "dice rolling...\n",
      "results are: \n",
      "5\n",
      "6\n",
      "do you wish to roll again?(y/n):5\n",
      "GAME OVER\n"
     ]
    }
   ],
   "source": [
    "import random \n",
    "\n",
    "print(\"welcome to dicerolls game\")\n",
    "MIN = 1\n",
    "MAX = 6\n",
    "roll_again = \"y\"\n",
    "roll_limit = 4\n",
    "roll_count = 1\n",
    "\n",
    "while (roll_again == \"y\") and roll_count != roll_limit:\n",
    "    while roll_count == 1:\n",
    "        roll_again = str(input(\"do you wish to start rolling?(y/n):\"))\n",
    "        break \n",
    "        \n",
    "    print(\"dice rolling...\")\n",
    "    print(\"results are: \")\n",
    "    dice1 = random.randint(MIN, MAX)\n",
    "    print(dice1)\n",
    "    dice2 = random.randint(MIN, MAX)\n",
    "    print(dice2)\n",
    "    roll_again = str(input(\"do you wish to roll again?(y/n):\"))\n",
    "   \n",
    "    if roll_count == roll_limit:\n",
    "        print(\"you have ran out of tries\")\n",
    "        break\n",
    "    roll_count += 1\n",
    "    \n",
    "print(\"GAME OVER\") "
   ]
  }
 ],
 "metadata": {
  "kernelspec": {
   "display_name": "Python 3 (ipykernel)",
   "language": "python",
   "name": "python3"
  },
  "language_info": {
   "codemirror_mode": {
    "name": "ipython",
    "version": 3
   },
   "file_extension": ".py",
   "mimetype": "text/x-python",
   "name": "python",
   "nbconvert_exporter": "python",
   "pygments_lexer": "ipython3",
   "version": "3.9.7"
  }
 },
 "nbformat": 4,
 "nbformat_minor": 5
}
