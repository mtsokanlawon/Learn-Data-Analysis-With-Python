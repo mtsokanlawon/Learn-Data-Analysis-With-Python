{
 "cells": [
  {
   "cell_type": "code",
   "execution_count": 14,
   "id": "a5c796c4",
   "metadata": {
    "scrolled": true
   },
   "outputs": [
    {
     "name": "stdout",
     "output_type": "stream",
     "text": [
      "Enter guess:Mts\n",
      "Mts\n",
      "Enter guess:mts\n",
      "mts\n",
      "Enter guess:mts\n",
      "mts\n",
      "out of guess, YOU LOSE!\n"
     ]
    }
   ],
   "source": [
    "secret_word = \"mts\"\n",
    "guess = \"\"\n",
    "guess_count = 0\n",
    "guess_limit = 3\n",
    "out_of_guess = False\n",
    "    \n",
    "while guess != secret_word and not(out_of_guess):\n",
    "    if guess_count < guess_limit:\n",
    "        guess = print(input(\"Enter guess:\"))\n",
    "        guess_count += 1\n",
    "    else:\n",
    "        out_of_guess = True\n",
    "if out_of_guess:\n",
    "    print(\"out of guess, YOU LOSE!\")\n",
    "else:\n",
    "    print(\"YOU WIN!\")"
   ]
  }
 ],
 "metadata": {
  "kernelspec": {
   "display_name": "Python 3 (ipykernel)",
   "language": "python",
   "name": "python3"
  },
  "language_info": {
   "codemirror_mode": {
    "name": "ipython",
    "version": 3
   },
   "file_extension": ".py",
   "mimetype": "text/x-python",
   "name": "python",
   "nbconvert_exporter": "python",
   "pygments_lexer": "ipython3",
   "version": "3.9.7"
  }
 },
 "nbformat": 4,
 "nbformat_minor": 5
}
