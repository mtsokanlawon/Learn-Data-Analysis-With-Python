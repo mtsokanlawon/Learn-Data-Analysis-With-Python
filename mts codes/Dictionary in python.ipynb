{
 "cells": [
  {
   "cell_type": "code",
   "execution_count": 9,
   "id": "8c8b72dc",
   "metadata": {
    "scrolled": false
   },
   "outputs": [
    {
     "name": "stdout",
     "output_type": "stream",
     "text": [
      "search a month(JAN): LUV\n",
      "Not a valid key\n"
     ]
    }
   ],
   "source": [
    "month_conversions = {\"JAN\": \"JANUARY\",\n",
    "                    \"FEB\": \"FEBRUARY\",\n",
    "                    \"MAR\": \"MARCH\",\n",
    "                    \"APR\": \"APRIL\",\n",
    "                    \"MAY\": \"MARCH\",\n",
    "                    \"JUN\": \"JUNE\",\n",
    "                    \"JUL\": \"JULY\",\n",
    "                    \"AUG\": \"AUGUST\",\n",
    "                    \"SEP\": \"SEMPTEMBER\",\n",
    "                    \"OCT\": \"OCTOBER\",\n",
    "                    \"NOV\": \"NOVEMBER\",\n",
    "                    \"DEC\": \"DECEMBER\"}\n",
    "\n",
    "months = input(\"search a month(JAN): \")\n",
    "print(month_conversions.get(months, \"Not a valid key\"))\n"
   ]
  }
 ],
 "metadata": {
  "kernelspec": {
   "display_name": "Python 3 (ipykernel)",
   "language": "python",
   "name": "python3"
  },
  "language_info": {
   "codemirror_mode": {
    "name": "ipython",
    "version": 3
   },
   "file_extension": ".py",
   "mimetype": "text/x-python",
   "name": "python",
   "nbconvert_exporter": "python",
   "pygments_lexer": "ipython3",
   "version": "3.9.7"
  }
 },
 "nbformat": 4,
 "nbformat_minor": 5
}
