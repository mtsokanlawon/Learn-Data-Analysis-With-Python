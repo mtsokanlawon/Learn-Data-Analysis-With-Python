{
 "cells": [
  {
   "cell_type": "code",
   "execution_count": 14,
   "id": "5c1f2a59",
   "metadata": {},
   "outputs": [
    {
     "name": "stdout",
     "output_type": "stream",
     "text": [
      "Enter guess:Mack\n",
      "Mack\n",
      "Enter guess:Dope\n",
      "Dope\n",
      "YOU WIN!\n"
     ]
    }
   ],
   "source": [
    "secret_word = \"dope\"\n",
    "guess = print(input(\"Enter guess:\"))\n",
    "\n",
    "while guess != secret_word:\n",
    "   guess = print(input(\"Enter guess:\"))\n",
    "   break \n",
    "    \n",
    "print(\"YOU WIN!\")\n",
    "\n",
    "\n",
    "\n",
    "\n",
    "    "
   ]
  }
 ],
 "metadata": {
  "kernelspec": {
   "display_name": "Python 3 (ipykernel)",
   "language": "python",
   "name": "python3"
  },
  "language_info": {
   "codemirror_mode": {
    "name": "ipython",
    "version": 3
   },
   "file_extension": ".py",
   "mimetype": "text/x-python",
   "name": "python",
   "nbconvert_exporter": "python",
   "pygments_lexer": "ipython3",
   "version": "3.9.7"
  }
 },
 "nbformat": 4,
 "nbformat_minor": 5
}
