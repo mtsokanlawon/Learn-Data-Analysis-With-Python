{
 "cells": [
  {
   "cell_type": "code",
   "execution_count": 1,
   "id": "18a8a069",
   "metadata": {},
   "outputs": [
    {
     "name": "stdout",
     "output_type": "stream",
     "text": [
      "out of scope!\n",
      "out of scope!\n",
      "out of scope!\n",
      "search found:  Kingsley\n"
     ]
    }
   ],
   "source": [
    "friends = [\"Goody\", \"David\", \"Samuel\", \"Kingsley\"]\n",
    "\n",
    "for friend in range(len(friends)):\n",
    "    if friend == 3:\n",
    "        print(\"search found: \", friends[friend])\n",
    "    else:\n",
    "        print(\"out of scope!\")\n",
    "    \n",
    "    "
   ]
  },
  {
   "cell_type": "code",
   "execution_count": 1,
   "id": "7c979bc4",
   "metadata": {},
   "outputs": [
    {
     "name": "stdout",
     "output_type": "stream",
     "text": [
      "range of numbers\n",
      "0   1   2   3   4   5   6   7   8   9   \n",
      "done\n"
     ]
    }
   ],
   "source": [
    "print(\"range of numbers\")\n",
    "i = 0\n",
    "while i < 10:\n",
    "    print(i, ' ', end=' ')\n",
    "    i += 1\n",
    "print()\n",
    "print('done')"
   ]
  },
  {
   "cell_type": "code",
   "execution_count": 2,
   "id": "36a5b940",
   "metadata": {},
   "outputs": [
    {
     "name": "stdout",
     "output_type": "stream",
     "text": [
      "..........\n"
     ]
    }
   ],
   "source": [
    "for _ in range(0,10): \n",
    "    print('.', end='') \n",
    "print() \n",
    "    "
   ]
  }
 ],
 "metadata": {
  "kernelspec": {
   "display_name": "Python 3 (ipykernel)",
   "language": "python",
   "name": "python3"
  },
  "language_info": {
   "codemirror_mode": {
    "name": "ipython",
    "version": 3
   },
   "file_extension": ".py",
   "mimetype": "text/x-python",
   "name": "python",
   "nbconvert_exporter": "python",
   "pygments_lexer": "ipython3",
   "version": "3.9.7"
  }
 },
 "nbformat": 4,
 "nbformat_minor": 5
}
