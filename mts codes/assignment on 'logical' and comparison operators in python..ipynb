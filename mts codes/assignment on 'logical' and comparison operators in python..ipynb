{
 "cells": [
  {
   "cell_type": "code",
   "execution_count": 16,
   "id": "fb1ead65",
   "metadata": {
    "scrolled": true
   },
   "outputs": [
    {
     "name": "stdout",
     "output_type": "stream",
     "text": [
      "Enter a number: -5\n",
      "num is negative\n",
      "bye\n"
     ]
    }
   ],
   "source": [
    "# check if input is positive or negative \n",
    "num = int(input(\"Enter a number: \"))\n",
    "\n",
    "if num == 0:\n",
    "        print('num is zero')\n",
    "if num < 0:\n",
    "    print('num is negative')\n",
    "if num > 0:\n",
    "    print('num is positive')\n",
    "print('bye')"
   ]
  },
  {
   "cell_type": "code",
   "execution_count": 27,
   "id": "c4c5b0c5",
   "metadata": {},
   "outputs": [
    {
     "name": "stdout",
     "output_type": "stream",
     "text": [
      "enter a number:4\n"
     ]
    },
    {
     "data": {
      "text/plain": [
       "False"
      ]
     },
     "execution_count": 27,
     "metadata": {},
     "output_type": "execute_result"
    }
   ],
   "source": [
    "# if an imput is odd or even.\n",
    "num = int(input('enter a number:'))\n",
    "\n",
    "True if {num % 2} == 0 else False\n",
    "\n"
   ]
  },
  {
   "cell_type": "code",
   "execution_count": 1,
   "id": "bb4351bd",
   "metadata": {},
   "outputs": [
    {
     "ename": "SyntaxError",
     "evalue": "EOL while scanning string literal (3156519321.py, line 4)",
     "output_type": "error",
     "traceback": [
      "\u001b[0;36m  Cell \u001b[0;32mIn [1], line 4\u001b[0;36m\u001b[0m\n\u001b[0;31m    print('Your distance in miles is ', float(dist/0.6214), 'miles)\u001b[0m\n\u001b[0m                                                                   ^\u001b[0m\n\u001b[0;31mSyntaxError\u001b[0m\u001b[0;31m:\u001b[0m EOL while scanning string literal\n"
     ]
    }
   ],
   "source": [
    "# convert distance km to miles.\n",
    "dist = int(input('Enter dist in km:'))\n",
    "\n",
    "print('Your distance in miles is ', float(dist/0.6214), 'miles)"
   ]
  }
 ],
 "metadata": {
  "kernelspec": {
   "display_name": "Python 3 (ipykernel)",
   "language": "python",
   "name": "python3"
  },
  "language_info": {
   "codemirror_mode": {
    "name": "ipython",
    "version": 3
   },
   "file_extension": ".py",
   "mimetype": "text/x-python",
   "name": "python",
   "nbconvert_exporter": "python",
   "pygments_lexer": "ipython3",
   "version": "3.9.7"
  }
 },
 "nbformat": 4,
 "nbformat_minor": 5
}
