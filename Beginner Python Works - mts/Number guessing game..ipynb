{
 "cells": [
  {
   "cell_type": "code",
   "execution_count": null,
   "id": "96a27f5f",
   "metadata": {},
   "outputs": [],
   "source": []
  },
  {
   "cell_type": "code",
   "execution_count": null,
   "id": "81de3dad",
   "metadata": {
    "scrolled": true
   },
   "outputs": [
    {
     "name": "stdout",
     "output_type": "stream",
     "text": [
      "welcome to the number guessing game\n"
     ]
    }
   ],
   "source": [
    "import random \n",
    "\n",
    "print('welcome to the number guessing game')\n",
    "true_value = random.randint(1,10)\n",
    "guess_count = 1\n",
    "guess_limit = 4\n",
    "guess = int(input(\"Enter a guess: \"))\n",
    "\n",
    "while (guess != true_value):\n",
    "    print(\"sorry! wrong guess\")\n",
    "    \n",
    "    if (guess_count == guess_limit):\n",
    "        break\n",
    "    elif (guess < true_value):\n",
    "        print(\"your guess is lower\")\n",
    "    else:\n",
    "        print(\"your guess is higher\")\n",
    "    guess = int(input(\"Enter another guess:\"))\n",
    "    guess_count += 1\n",
    "       \n",
    "                \n",
    "if guess == true_value:\n",
    "    print(\"you guessed right on count \", guess_count)\n",
    "    print(\"you win!\")\n",
    "    \n",
    "print(\"GAME OVER\")"
   ]
  }
 ],
 "metadata": {
  "kernelspec": {
   "display_name": "Python 3 (ipykernel)",
   "language": "python",
   "name": "python3"
  },
  "language_info": {
   "codemirror_mode": {
    "name": "ipython",
    "version": 3
   },
   "file_extension": ".py",
   "mimetype": "text/x-python",
   "name": "python",
   "nbconvert_exporter": "python",
   "pygments_lexer": "ipython3",
   "version": "3.9.7"
  }
 },
 "nbformat": 4,
 "nbformat_minor": 5
}
