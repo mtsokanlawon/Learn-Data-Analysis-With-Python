{
 "cells": [
  {
   "cell_type": "code",
   "execution_count": null,
   "id": "8b3c447e",
   "metadata": {},
   "outputs": [],
   "source": [
    "#get two integers m and n.\n",
    "#let Divisor = d.\n",
    "#let d equal the integer( m or n) with the smallest value.\n",
    "# then decrement d by 1 until d evenly divides m and n.\n",
    "d = None\n",
    "m = int(input(\"enter first number (between 1 and 100):\"))\n",
    "n = int(input(\"enter second number ( between 1 and 100):\"))\n",
    "\n",
    "      \n",
    "for i in range(1, 100):\n",
    "    if (m % i == 0) and (n % i == 0):\n",
    "        d = i\n",
    "        print(d)\n",
    "    \n"
   ]
  }
 ],
 "metadata": {
  "kernelspec": {
   "display_name": "Python 3 (ipykernel)",
   "language": "python",
   "name": "python3"
  },
  "language_info": {
   "codemirror_mode": {
    "name": "ipython",
    "version": 3
   },
   "file_extension": ".py",
   "mimetype": "text/x-python",
   "name": "python",
   "nbconvert_exporter": "python",
   "pygments_lexer": "ipython3",
   "version": "3.9.7"
  }
 },
 "nbformat": 4,
 "nbformat_minor": 5
}
