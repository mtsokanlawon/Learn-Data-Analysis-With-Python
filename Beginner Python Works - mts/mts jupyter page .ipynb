# basic calculator
num1 = float(input("Enter your first number: "))
Oprt = input("Enter your operator: ")
num2 = float(input("Enter your second number: ")

if (Oprt == "+") :
      print(num1 + num2)
elif Oprt == "-":
     print(num1 - num2)
elif Oprt == "*":
     print(num1 * num2)\n",
elif Oprt == "/":
     print(num1 / num2)
else:
    print("invalid input!")