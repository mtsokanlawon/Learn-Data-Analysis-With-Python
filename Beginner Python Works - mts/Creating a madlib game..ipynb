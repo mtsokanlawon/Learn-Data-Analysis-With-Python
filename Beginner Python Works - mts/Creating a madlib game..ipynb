{
 "cells": [
  {
   "cell_type": "markdown",
   "id": "0e391b41",
   "metadata": {},
   "source": [
    "#Madlib game\n",
    "character_name = input()"
   ]
  },
  {
   "cell_type": "code",
   "execution_count": 27,
   "id": "f43891e3",
   "metadata": {
    "scrolled": false
   },
   "outputs": [
    {
     "name": "stdout",
     "output_type": "stream",
     "text": [
      "what's your name dude? Goody\n",
      "You're welcome... to the MTS madlib gaming. Your player ID is Goody001\n",
      "please enter your age: 17\n",
      "what's your favourite colour? White\n",
      "you love to be called? CodeEvolver\n",
      "what age do you love? Goodroid in\n",
      "what meal do you take? Pizza\n",
      "In a world of tech, there lives a guy called Goody\n",
      "He is 17 years old. \n",
      "He loves White colour and, \n",
      "loves to be called CodeEvolver and he loves being Goodroid in\n",
      "He takes Pizza depending on what time he eats.\n"
     ]
    }
   ],
   "source": [
    "      \n",
    "      \n",
    "character_name = input(\"what's your name dude? \")\n",
    "print(\"You're welcome... to the MTS madlib gaming. Your player ID is \" + character_name + \"001\")\n",
    "character_age = str(input(\"please enter your age: \"))\n",
    "character_colour = input(\"what's your favourite colour? \")\n",
    "preferred_name = input(\"you love to be called? \")\n",
    "preferred_age = str(input(\"what age do you love? \"))\n",
    "character_meal = input(\"what meal do you take? \")\n",
    "\n",
    "print(\"In a world of tech, there lives a guy called \" + character_name )\n",
    "print(\"He is \" + character_age + \" years old. \")\n",
    "print(\"He loves \" + character_colour + \" colour and, \")\n",
    "print(\"loves to be called \" + preferred_name + \" and he loves being \" + preferred_age )\n",
    "print(\"He takes \" + character_meal + \" depending on what time he eats.\")"
   ]
  }
 ],
 "metadata": {
  "kernelspec": {
   "display_name": "Python 3 (ipykernel)",
   "language": "python",
   "name": "python3"
  },
  "language_info": {
   "codemirror_mode": {
    "name": "ipython",
    "version": 3
   },
   "file_extension": ".py",
   "mimetype": "text/x-python",
   "name": "python",
   "nbconvert_exporter": "python",
   "pygments_lexer": "ipython3",
   "version": "3.9.7"
  }
 },
 "nbformat": 4,
 "nbformat_minor": 5
}
