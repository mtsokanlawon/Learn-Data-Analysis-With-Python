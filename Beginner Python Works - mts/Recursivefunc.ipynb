{
 "cells": [
  {
   "cell_type": "code",
   "execution_count": 1,
   "id": "a90a34e5",
   "metadata": {},
   "outputs": [
    {
     "name": "stdout",
     "output_type": "stream",
     "text": [
      "\t calling factorial(5):\n",
      "\t\t recursively calling factorial( 4 ):\n",
      "\t\t recursively calling factorial( 3 ):\n",
      "\t\t recursively calling factorial( 2 ):\n",
      "\t\t recursively calling factorial( 1 ):\n",
      "\t returning 1\n",
      "\t returning result: 2\n",
      "\t returning result: 6\n",
      "\t returning result: 24\n",
      "\t returning result: 120\n",
      "120\n"
     ]
    }
   ],
   "source": [
    "def factorial(n, depth = 1):\n",
    "    if n == 1:\n",
    "        print('\\t' * depth, 'returning 1')\n",
    "        return 1\n",
    "    else:\n",
    "        print('\\t' * (depth + 1), 'recursively calling factorial(', n-1,\n",
    "             '):')\n",
    "        result = n * factorial(n-1)\n",
    "        print('\\t', 'returning result:', result)\n",
    "        return result\n",
    "print('\\t', 'calling factorial(5):')\n",
    "print(factorial(5))"
   ]
  },
  {
   "cell_type": "code",
   "execution_count": 9,
   "id": "88848695",
   "metadata": {},
   "outputs": [
    {
     "name": "stdout",
     "output_type": "stream",
     "text": [
      "preparing result...\n",
      "120\n"
     ]
    }
   ],
   "source": [
    "def tail_factorial(n, accumulator = 1):\n",
    "    if n == 1:\n",
    "        print(\"preparing result...\")\n",
    "        return accumulator\n",
    "    else:\n",
    "        result = tail_factorial(n-1, accumulator * n)\n",
    "        return result \n",
    "print(tail_factorial(5))"
   ]
  },
  {
   "cell_type": "code",
   "execution_count": null,
   "id": "5c67a4ee",
   "metadata": {
    "scrolled": true
   },
   "outputs": [],
   "source": [
    "triangle = pascals_triangle(5)\n",
    "for i in triangle:\n",
    "    print(i)"
   ]
  },
  {
   "cell_type": "code",
   "execution_count": null,
   "id": "b47fd61e",
   "metadata": {},
   "outputs": [],
   "source": [
    "def pascals_array(numRow):\n",
    "        if numRows == 1:\n",
    "            return [[1]]\n",
    "        result = pascals_array(numRows-1)\n",
    "        return result + [[1] + [result[-1][i-1] + result[-1][i] for i in range(1,numRows-1)] + [1]] \n",
    "The if statements form the base cases"
   ]
  }
 ],
 "metadata": {
  "kernelspec": {
   "display_name": "Python 3 (ipykernel)",
   "language": "python",
   "name": "python3"
  },
  "language_info": {
   "codemirror_mode": {
    "name": "ipython",
    "version": 3
   },
   "file_extension": ".py",
   "mimetype": "text/x-python",
   "name": "python",
   "nbconvert_exporter": "python",
   "pygments_lexer": "ipython3",
   "version": "3.9.7"
  }
 },
 "nbformat": 4,
 "nbformat_minor": 5
}
