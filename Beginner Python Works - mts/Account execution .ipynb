{
 "cells": [
  {
   "cell_type": "code",
   "execution_count": 2,
   "id": "e8b32db6",
   "metadata": {},
   "outputs": [
    {
     "ename": "ModuleNotFoundError",
     "evalue": "No module named 'Account'",
     "output_type": "error",
     "traceback": [
      "\u001b[0;31m---------------------------------------------------------------------------\u001b[0m",
      "\u001b[0;31mModuleNotFoundError\u001b[0m                       Traceback (most recent call last)",
      "Cell \u001b[0;32mIn [2], line 1\u001b[0m\n\u001b[0;32m----> 1\u001b[0m \u001b[38;5;28;01mfrom\u001b[39;00m \u001b[38;5;21;01mAccount\u001b[39;00m \u001b[38;5;28;01mimport\u001b[39;00m account\n\u001b[1;32m      3\u001b[0m acc1 \u001b[38;5;241m=\u001b[39m account(\u001b[38;5;124m\"\u001b[39m\u001b[38;5;124m123\u001b[39m\u001b[38;5;124m\"\u001b[39m, \u001b[38;5;124m\"\u001b[39m\u001b[38;5;124mMercy\u001b[39m\u001b[38;5;124m\"\u001b[39m, \u001b[38;5;241m50.00\u001b[39m, \u001b[38;5;124m\"\u001b[39m\u001b[38;5;124mCurrent\u001b[39m\u001b[38;5;124m\"\u001b[39m)\n\u001b[1;32m      4\u001b[0m \u001b[38;5;28mprint\u001b[39m(acc1)\n",
      "\u001b[0;31mModuleNotFoundError\u001b[0m: No module named 'Account'"
     ]
    }
   ],
   "source": [
    "from account import account\n",
    "\n",
    "acc1 = account(\"123\", \"Mercy\", 50.00, \"Current\")\n",
    "print(acc1)\n",
    "acc1.deposit(40.45)\n",
    "acc1.withdraw(0)\n",
    "acc1.get_balance()"
   ]
  },
  {
   "cell_type": "code",
   "execution_count": null,
   "id": "5d0a78fa",
   "metadata": {},
   "outputs": [],
   "source": []
  }
 ],
 "metadata": {
  "kernelspec": {
   "display_name": "Python 3 (ipykernel)",
   "language": "python",
   "name": "python3"
  },
  "language_info": {
   "codemirror_mode": {
    "name": "ipython",
    "version": 3
   },
   "file_extension": ".py",
   "mimetype": "text/x-python",
   "name": "python",
   "nbconvert_exporter": "python",
   "pygments_lexer": "ipython3",
   "version": "3.9.7"
  }
 },
 "nbformat": 4,
 "nbformat_minor": 5
}
