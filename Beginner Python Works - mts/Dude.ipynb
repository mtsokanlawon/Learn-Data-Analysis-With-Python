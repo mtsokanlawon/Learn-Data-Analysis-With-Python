{
 "cells": [
  {
   "cell_type": "code",
   "execution_count": 1,
   "id": "3142b480",
   "metadata": {},
   "outputs": [],
   "source": [
    "\n",
    "class account:\n",
    "    \n",
    "    def __init__(self, account_number\n",
    "    , account_name, opening_deposit, account_type\n",
    "    ):\n",
    "        self.account_number = account_number\n",
    "        self.account_name = account_name\n",
    "        self.opening_deposit = opening_deposit\n",
    "        self.account_type = account_type\n",
    "\n",
    "    def deposit(self, deposited_amount):\n",
    "        deposit = self.opening_deposit + deposited_amount\n",
    "        print( \"deposited amount:\" + str(deposited_amount))\n",
    "        return deposit \n",
    "\n",
    "    def withdraw(self, withdrawn_amount):\n",
    "        withdraw = self.opening_deposit - withdrawn_amount\n",
    "        print(\"withdrawn amount:\" + str(withdrawn_amount))\n",
    "        return withdraw \n",
    "\n",
    "    def get_balance(self):\n",
    "        \n",
    "        balance = self.deposit() - self.opening_deposit + self.withdraw \n",
    "        print(\"account[\" + self.account_number + \"]-\" + self.account_name + \"\\n\" + \"Account balance:\" + str(balance))\n",
    "        \n",
    "    def __str__(self):\n",
    "        return \"account number:\" + self.account_number + \"\\n\" + \"name: \" + self.account_name + \"\\n\" + \"Opening deposit:\" + str(self.opening_deposit) + \"\\n\" + \"Account type: \" + self.account_type + \"\\n\" + \"-\"*25"
   ]
  }
 ],
 "metadata": {
  "kernelspec": {
   "display_name": "Python 3 (ipykernel)",
   "language": "python",
   "name": "python3"
  },
  "language_info": {
   "codemirror_mode": {
    "name": "ipython",
    "version": 3
   },
   "file_extension": ".py",
   "mimetype": "text/x-python",
   "name": "python",
   "nbconvert_exporter": "python",
   "pygments_lexer": "ipython3",
   "version": "3.9.7"
  }
 },
 "nbformat": 4,
 "nbformat_minor": 5
}
