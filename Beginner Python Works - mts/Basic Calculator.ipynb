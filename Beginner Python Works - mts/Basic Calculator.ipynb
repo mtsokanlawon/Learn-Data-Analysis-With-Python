{
 "cells": [
  {
   "cell_type": "code",
   "execution_count": 20,
   "id": "c9fd59e5",
   "metadata": {
    "scrolled": false
   },
   "outputs": [
    {
     "name": "stdout",
     "output_type": "stream",
     "text": [
      "enter your first number: 100\n",
      "enter an operator (+,-,*,/,**,//,%): *\n",
      "enter your second number: 100\n",
      "calculating( 100.0 * 100.0 )\n",
      "result: 10000.0\n"
     ]
    }
   ],
   "source": [
    "num1 = float(input(\"enter your first number: \"))\n",
    "oprt = input(\"enter an operator (+,-,*,/,**,//,%): \")\n",
    "num2 = float(input(\"enter your second number: \"))\n",
    "print(\"calculating(\", num1, oprt, num2 ,\")\")\n",
    "\n",
    "if (oprt == \"+\"):\n",
    "    print(\"result:\", num1 + num2)\n",
    "elif (oprt == \"-\"):\n",
    "    print(\"result:\", num1 - num2)\n",
    "elif (oprt == \"*\"):\n",
    "    print(\"result:\", num1 * num2)\n",
    "elif (oprt == \"/\"):\n",
    "    print(\"result:\", num1 / num2)\n",
    "elif (oprt == \"**\"):\n",
    "    print(\"result:\", num1 ** num2)\n",
    "elif (oprt == \"//\"):\n",
    "    print(\"result:\", num1 // num2)\n",
    "elif (oprt == \"%\"):\n",
    "    print(\"result:\", num1 % num2)\n",
    "else:\n",
    "    print(\"syntax error!\")"
   ]
  }
 ],
 "metadata": {
  "kernelspec": {
   "display_name": "Python 3 (ipykernel)",
   "language": "python",
   "name": "python3"
  },
  "language_info": {
   "codemirror_mode": {
    "name": "ipython",
    "version": 3
   },
   "file_extension": ".py",
   "mimetype": "text/x-python",
   "name": "python",
   "nbconvert_exporter": "python",
   "pygments_lexer": "ipython3",
   "version": "3.9.7"
  }
 },
 "nbformat": 4,
 "nbformat_minor": 5
}
