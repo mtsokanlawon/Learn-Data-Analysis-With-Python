{
 "cells": [
  {
   "cell_type": "markdown",
   "id": "6db85990",
   "metadata": {},
   "source": [
    "# PROBLEM: Rotated list¶\n",
    "Given a rotated list of a sorted list o repeated elements rotated unknown number of times, we need to write a function which will be used to determine the number of times the original sorted list was rotated to give the rotated list."
   ]
  },
  {
   "cell_type": "markdown",
   "id": "3da18031",
   "metadata": {},
   "source": [
    "# PROBLEM: Rotated list\n",
    "Given a rotated list of a sorted list of repeated elements rotated unknown number of times, we need to write a function which will be used to determine the number of times the original sorted list was rotated to give the rotated list.\n",
    "Solution\n",
    "1.State the problem clearly. identify the input and output format.\n",
    "PROBLEM:Given a rotated list of a sorted list of repeated elements rotated unknown number of times, we need to write a function which will be used to determine the number of times the original sorted list was rotated to give the rotated list.\n",
    "e.g rotated_list = `[3, 3, 4, 5, 5, 5, 1, 1, 2, 2, 2]` \n",
    "\n",
    "sorted_list = `[1, 1, 2, 2, 2, 3, 3, 4, 5, 5, 5]`\n",
    "Obviously, this list has been rotated 3 times.\n",
    "To rotate a list simply means to place the item in the last position of a list in the first position.\n",
    "INPUT: nums: a sorted rotated list e.g [7,9,2,3,5]\n",
    "OUTPUT: rotations: the number of times the original sorted list was royated e.g [2,3,5,7,9] is rotated 2 times."
   ]
  },
  {
   "cell_type": "code",
   "execution_count": 1,
   "id": "572f2f03",
   "metadata": {},
   "outputs": [],
   "source": [
    "# signature of function.\n",
    "def count_rotations_linear(nums):\n",
    "    position = 0\n",
    "    while position < len(nums):\n",
    "        if nums[position] < nums[position - 1]:\n",
    "            return position\n",
    "        position += 1\n",
    "        \n",
    "    return 0"
   ]
  },
  {
   "cell_type": "markdown",
   "id": "370a5d5e",
   "metadata": {},
   "source": [
    "# 2.Identify input and output cases, and try all edge cases."
   ]
  },
  {
   "cell_type": "markdown",
   "id": "d1929b0a",
   "metadata": {},
   "source": [
    "# Input and Output cases we can have are:\n",
    "1. A list containing 10 elements of which some are repeated, the list is rotated 7 times.\n",
    "2. A list containing `n` elements of which some are repeated, rotated `n` times.\n",
    "3. A list containing `n` elements of which some are repeated, rotated `n-1` times.\n",
    "\n",
    "Egde cases:\n",
    "\n",
    "4. An empty list.\n",
    "5. A list of 1 element, repeated many times.\n",
    "6. A list containing 1 element."
   ]
  },
  {
   "cell_type": "markdown",
   "id": "922d598b",
   "metadata": {},
   "source": [
    "#case 0"
   ]
  },
  {
   "cell_type": "code",
   "execution_count": 2,
   "id": "7646ff7a",
   "metadata": {},
   "outputs": [],
   "source": [
    "#test format.\n",
    "test = {'input':\n",
    "        {'nums':[2, 3, 3, 4, 5, \n",
    "                5, 5, 1, 1, 2,]},\n",
    "        'output':7}"
   ]
  },
  {
   "cell_type": "code",
   "execution_count": 3,
   "id": "89482bfb",
   "metadata": {},
   "outputs": [],
   "source": [
    "tests = [test]"
   ]
  },
  {
   "cell_type": "markdown",
   "id": "30aa4e90",
   "metadata": {},
   "source": [
    "# Test Other Cases"
   ]
  },
  {
   "cell_type": "markdown",
   "id": "cce87566",
   "metadata": {},
   "source": [
    "#Case 1:\n",
    "A list containing n elements of which some are repeated, rotated n times."
   ]
  },
  {
   "cell_type": "code",
   "execution_count": 4,
   "id": "d2a6c5a9",
   "metadata": {},
   "outputs": [],
   "source": [
    "tests.append({'input':\n",
    "      {'nums':[2,2,4,4,4,6,\n",
    "               7,7,8,8]},\n",
    "             'output':0\n",
    "})"
   ]
  },
  {
   "cell_type": "markdown",
   "id": "647e59de",
   "metadata": {},
   "source": [
    "#case 2:\n",
    "A list containing `n` elements of which some are repeated, rotated `n-1` times.\n"
   ]
  },
  {
   "cell_type": "code",
   "execution_count": 5,
   "id": "4df6773a",
   "metadata": {},
   "outputs": [],
   "source": [
    "#11 elements, rotated 10 times\n",
    "tests.append({'input':\n",
    "              {'nums':[0,1,1,1\n",
    "                 ,3,4,4,6,6,6,0]},\n",
    "              'output':10})"
   ]
  },
  {
   "cell_type": "markdown",
   "id": "a331146a",
   "metadata": {},
   "source": [
    "#case 3-5:\n",
    "\n",
    "4. An empty list.\n",
    "\n",
    "5. A list of 1 element, repeated many times.\n",
    "\n",
    "6. A list containing 1 element."
   ]
  },
  {
   "cell_type": "code",
   "execution_count": 6,
   "id": "5a2b4dbc",
   "metadata": {},
   "outputs": [],
   "source": [
    "tests.append({'input':\n",
    "              {'nums':[]},\n",
    "              'output':0})"
   ]
  },
  {
   "cell_type": "code",
   "execution_count": 7,
   "id": "88159b4f",
   "metadata": {},
   "outputs": [],
   "source": [
    "tests.append({'input':\n",
    "              {'nums':[6,6,6,6,6\n",
    "                      ,6,6,6,6,6]},\n",
    "              'output':0})"
   ]
  },
  {
   "cell_type": "code",
   "execution_count": 8,
   "id": "a05a890c",
   "metadata": {},
   "outputs": [],
   "source": [
    "tests.append({'input':\n",
    "              {'nums':[2]},\n",
    "              'output':0})"
   ]
  },
  {
   "cell_type": "code",
   "execution_count": 9,
   "id": "da468210",
   "metadata": {},
   "outputs": [
    {
     "data": {
      "text/plain": [
       "[{'input': {'nums': [2, 3, 3, 4, 5, 5, 5, 1, 1, 2]}, 'output': 7},\n",
       " {'input': {'nums': [2, 2, 4, 4, 4, 6, 7, 7, 8, 8]}, 'output': 0},\n",
       " {'input': {'nums': [0, 1, 1, 1, 3, 4, 4, 6, 6, 6, 0]}, 'output': 10},\n",
       " {'input': {'nums': []}, 'output': 0},\n",
       " {'input': {'nums': [6, 6, 6, 6, 6, 6, 6, 6, 6, 6]}, 'output': 0},\n",
       " {'input': {'nums': [2]}, 'output': 0}]"
      ]
     },
     "execution_count": 9,
     "metadata": {},
     "output_type": "execute_result"
    }
   ],
   "source": [
    "tests "
   ]
  },
  {
   "cell_type": "code",
   "execution_count": 10,
   "id": "56a87fab",
   "metadata": {},
   "outputs": [],
   "source": [
    "def evaluate_test_cases(\n",
    "count_rotations, tests):\n",
    "    case_number = 0\n",
    "    passed = 0\n",
    "    failed = 0\n",
    "    for test in tests:\n",
    "        print(\"#CASE\", \n",
    "              case_number, \"\\n\\n\")\n",
    "        print(\"Input:\\n\",\n",
    "              \"nums:\",\n",
    "              test['input']['nums'],\n",
    "             \"\\n\\n\")\n",
    "        print(\"Expected output:\",\n",
    "              test['output'], \"\\n\\n\")\n",
    "        \n",
    "        #passing in the cases.\n",
    "        nums = test['input']['nums']\n",
    "        output = test['output']\n",
    "        result = count_rotations(nums) \n",
    "        #^^ ACTUAL OUTPUT ^^\n",
    "        \n",
    "        print(\"Actual output:\",\n",
    "              result, \"\\n\\n\")\n",
    "        #condition for case validation.\n",
    "        if result == output:\n",
    "            print(\"result:PASSED\", \"\\n\\n\\n\")\n",
    "            passed += 1\n",
    "        else:\n",
    "            print(\"result:FAILED\", \"\\n\\n\\n\")\n",
    "            failed += 1\n",
    "            \n",
    "         \n",
    "        if case_number == (len(tests)-1):\n",
    "            print(\"#SUMMARY\\n\")\n",
    "            print(\"TEST CASES:\", case_number + 1,\n",
    "                  \"\\n\"\n",
    "                  \"PASSED:\", passed,\n",
    "                  \"\\n\"\n",
    "                  \"FAILED:\", failed)\n",
    "        \n",
    "        #increment case_number.\n",
    "        case_number += 1\n",
    "        \n",
    "        "
   ]
  },
  {
   "cell_type": "code",
   "execution_count": 11,
   "id": "d8bb6f57",
   "metadata": {
    "scrolled": true
   },
   "outputs": [
    {
     "name": "stdout",
     "output_type": "stream",
     "text": [
      "#CASE 0 \n",
      "\n",
      "\n",
      "Input:\n",
      " nums: [2, 3, 3, 4, 5, 5, 5, 1, 1, 2] \n",
      "\n",
      "\n",
      "Expected output: 7 \n",
      "\n",
      "\n",
      "Actual output: 7 \n",
      "\n",
      "\n",
      "result:PASSED \n",
      "\n",
      "\n",
      "\n",
      "#CASE 1 \n",
      "\n",
      "\n",
      "Input:\n",
      " nums: [2, 2, 4, 4, 4, 6, 7, 7, 8, 8] \n",
      "\n",
      "\n",
      "Expected output: 0 \n",
      "\n",
      "\n",
      "Actual output: 0 \n",
      "\n",
      "\n",
      "result:PASSED \n",
      "\n",
      "\n",
      "\n",
      "#CASE 2 \n",
      "\n",
      "\n",
      "Input:\n",
      " nums: [0, 1, 1, 1, 3, 4, 4, 6, 6, 6, 0] \n",
      "\n",
      "\n",
      "Expected output: 10 \n",
      "\n",
      "\n",
      "Actual output: 10 \n",
      "\n",
      "\n",
      "result:PASSED \n",
      "\n",
      "\n",
      "\n",
      "#CASE 3 \n",
      "\n",
      "\n",
      "Input:\n",
      " nums: [] \n",
      "\n",
      "\n",
      "Expected output: 0 \n",
      "\n",
      "\n",
      "Actual output: 0 \n",
      "\n",
      "\n",
      "result:PASSED \n",
      "\n",
      "\n",
      "\n",
      "#CASE 4 \n",
      "\n",
      "\n",
      "Input:\n",
      " nums: [6, 6, 6, 6, 6, 6, 6, 6, 6, 6] \n",
      "\n",
      "\n",
      "Expected output: 0 \n",
      "\n",
      "\n",
      "Actual output: 0 \n",
      "\n",
      "\n",
      "result:PASSED \n",
      "\n",
      "\n",
      "\n",
      "#CASE 5 \n",
      "\n",
      "\n",
      "Input:\n",
      " nums: [2] \n",
      "\n",
      "\n",
      "Expected output: 0 \n",
      "\n",
      "\n",
      "Actual output: 0 \n",
      "\n",
      "\n",
      "result:PASSED \n",
      "\n",
      "\n",
      "\n",
      "#SUMMARY\n",
      "\n",
      "TEST CASES: 6 \n",
      "PASSED: 6 \n",
      "FAILED: 0\n"
     ]
    }
   ],
   "source": [
    "evaluate_test_cases(count_rotations_linear,\n",
    "                    tests)"
   ]
  },
  {
   "cell_type": "markdown",
   "id": "b7159af5",
   "metadata": {},
   "source": [
    "# 4. Write a Solution in your own words with simple English.\n",
    "Linear Search Solution .\n",
    "In this method, the list of numbers is checked through from the first position(from index 0) until a condition is met.\n",
    "\n",
    "Condition:\n",
    "The number of times the list is rotated is equal to the position of the first occurrence of the smallest number. let's have:\n",
    "\n",
    "Sorted_list = [2,2,2,3,4,4,5,5]\n",
    "\n",
    "rotated_list=[4,5,5,2,2,2,3,4]\n",
    "\n",
    "#the list has been rotated 3 times, and the position of the smallest element is 3(starting from 0).\n",
    "\n",
    "For an empty list: it's rotated 0 times, so 0 should be returned.\n",
    "\n",
    "A list rotated `n` times: it's not rotated at all physically so, 0 is returned.\n",
    "\n",
    "likewise a list of single repeating elements.\n"
   ]
  },
  {
   "cell_type": "markdown",
   "id": "240a0a5d",
   "metadata": {},
   "source": [
    "# 5.Calculate the worst case complexity, using Big O Notation.\n",
    "based on speed(running-time)"
   ]
  },
  {
   "cell_type": "code",
   "execution_count": 12,
   "id": "2743f12f",
   "metadata": {},
   "outputs": [],
   "source": [
    "linear_search_complexity = \"O(N)\"\n",
    "# where N = number of elements,\n",
    "#to be iterated at worst."
   ]
  },
  {
   "cell_type": "markdown",
   "id": "b164005a",
   "metadata": {},
   "source": [
    "# 6.Write another method to take care of Inefficiency.\n",
    "Binary_search method?"
   ]
  },
  {
   "cell_type": "markdown",
   "id": "7681b561",
   "metadata": {},
   "source": [
    "# 7.Repeat steps 3-6"
   ]
  },
  {
   "cell_type": "code",
   "execution_count": 13,
   "id": "0eba7d5d",
   "metadata": {},
   "outputs": [],
   "source": [
    "#structure of function.\n",
    "def count_rotations_binary(nums):\n",
    "    lo = 0\n",
    "    hi = len(nums)-1\n",
    "    \n",
    "    while hi > 1:\n",
    "        mid = (lo + hi)//2\n",
    "        mid_number = nums[mid]\n",
    "        \n",
    "        print(\"lo:\",lo, \"hi:\",hi,\n",
    "              \"mid:\",mid,\n",
    "              \"mid_number:\",mid_number)\n",
    "        #check if middle element is \n",
    "        #smaller than preceding element.\n",
    "        if mid_number < nums[mid-1]:\n",
    "            return mid\n",
    "        \n",
    "        #check if answer lies on right\n",
    "        elif mid_number > nums[hi]:\n",
    "            lo = mid + 1\n",
    "        #if answer lies on left\n",
    "        else:\n",
    "            hi = mid - 1\n",
    "        \n",
    "        \n",
    "    return 0\n",
    "    "
   ]
  },
  {
   "cell_type": "markdown",
   "id": "0ddadbee",
   "metadata": {},
   "source": [
    "# How it works.\n",
    "in binary_Search;\n",
    "\n",
    "1.The mid position is located and checked.\n",
    "\n",
    "*if element is less than the preceding element, that's the first occurrence of the smallest element and the postion(counting the list from 0) is returned.\n",
    "\n",
    "*otherwise, the mid element is compared with the last element:\n",
    "\n",
    "-if the last element is higher then answer lies on the right side of the list.If the last element is lower, answer lies on the left side.\n",
    "\n",
    "see:\n",
    "nums = `[]`"
   ]
  },
  {
   "cell_type": "code",
   "execution_count": 14,
   "id": "de58d868",
   "metadata": {},
   "outputs": [
    {
     "name": "stdout",
     "output_type": "stream",
     "text": [
      "#CASE 0 \n",
      "\n",
      "\n",
      "Input:\n",
      " nums: [2, 3, 3, 4, 5, 5, 5, 1, 1, 2] \n",
      "\n",
      "\n",
      "Expected output: 7 \n",
      "\n",
      "\n",
      "lo: 0 hi: 9 mid: 4 mid_number: 5\n",
      "lo: 5 hi: 9 mid: 7 mid_number: 1\n",
      "Actual output: 7 \n",
      "\n",
      "\n",
      "result:PASSED \n",
      "\n",
      "\n",
      "\n",
      "#CASE 1 \n",
      "\n",
      "\n",
      "Input:\n",
      " nums: [2, 2, 4, 4, 4, 6, 7, 7, 8, 8] \n",
      "\n",
      "\n",
      "Expected output: 0 \n",
      "\n",
      "\n",
      "lo: 0 hi: 9 mid: 4 mid_number: 4\n",
      "lo: 0 hi: 3 mid: 1 mid_number: 2\n",
      "Actual output: 0 \n",
      "\n",
      "\n",
      "result:PASSED \n",
      "\n",
      "\n",
      "\n",
      "#CASE 2 \n",
      "\n",
      "\n",
      "Input:\n",
      " nums: [0, 1, 1, 1, 3, 4, 4, 6, 6, 6, 0] \n",
      "\n",
      "\n",
      "Expected output: 10 \n",
      "\n",
      "\n",
      "lo: 0 hi: 10 mid: 5 mid_number: 4\n",
      "lo: 6 hi: 10 mid: 8 mid_number: 6\n",
      "lo: 9 hi: 10 mid: 9 mid_number: 6\n",
      "lo: 10 hi: 10 mid: 10 mid_number: 0\n",
      "Actual output: 10 \n",
      "\n",
      "\n",
      "result:PASSED \n",
      "\n",
      "\n",
      "\n",
      "#CASE 3 \n",
      "\n",
      "\n",
      "Input:\n",
      " nums: [] \n",
      "\n",
      "\n",
      "Expected output: 0 \n",
      "\n",
      "\n",
      "Actual output: 0 \n",
      "\n",
      "\n",
      "result:PASSED \n",
      "\n",
      "\n",
      "\n",
      "#CASE 4 \n",
      "\n",
      "\n",
      "Input:\n",
      " nums: [6, 6, 6, 6, 6, 6, 6, 6, 6, 6] \n",
      "\n",
      "\n",
      "Expected output: 0 \n",
      "\n",
      "\n",
      "lo: 0 hi: 9 mid: 4 mid_number: 6\n",
      "lo: 0 hi: 3 mid: 1 mid_number: 6\n",
      "Actual output: 0 \n",
      "\n",
      "\n",
      "result:PASSED \n",
      "\n",
      "\n",
      "\n",
      "#CASE 5 \n",
      "\n",
      "\n",
      "Input:\n",
      " nums: [2] \n",
      "\n",
      "\n",
      "Expected output: 0 \n",
      "\n",
      "\n",
      "Actual output: 0 \n",
      "\n",
      "\n",
      "result:PASSED \n",
      "\n",
      "\n",
      "\n",
      "#SUMMARY\n",
      "\n",
      "TEST CASES: 6 \n",
      "PASSED: 6 \n",
      "FAILED: 0\n"
     ]
    }
   ],
   "source": [
    "evaluate_test_cases(count_rotations_binary, tests)"
   ]
  }
 ],
 "metadata": {
  "kernelspec": {
   "display_name": "Python 3 (ipykernel)",
   "language": "python",
   "name": "python3"
  },
  "language_info": {
   "codemirror_mode": {
    "name": "ipython",
    "version": 3
   },
   "file_extension": ".py",
   "mimetype": "text/x-python",
   "name": "python",
   "nbconvert_exporter": "python",
   "pygments_lexer": "ipython3",
   "version": "3.9.7"
  }
 },
 "nbformat": 4,
 "nbformat_minor": 5
}
