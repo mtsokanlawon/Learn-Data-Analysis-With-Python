{
 "cells": [
  {
   "cell_type": "markdown",
   "id": "a67f59c2",
   "metadata": {},
   "source": [
    "# PROBLEM: Rotated list\n",
    "Given a rotated list of a sorted unique list rotated unknown number of times, we need to write a function which will be used to determine the number of times the original sorted list was rotated to give the rotated list.\n"
   ]
  },
  {
   "cell_type": "markdown",
   "id": "d53b8358",
   "metadata": {},
   "source": [
    "# Solution\n",
    "1.State the problem clearly. identify the input and output format.\n",
    "\n",
    "PROBLEM:Given a rotated list of a sorted unique list rotated unknown number of times, we need to write a function which will be used to determine the number of times the original sorted list was rotated to give the rotated list.\n",
    "\n",
    "e.g rotated_list = `[3, 4, 5, 1, 2]`\n",
    "sorted_list = `[1, 2, 3, 4, 5]`\n",
    "\n",
    "Obviously, this list has been rotated 3 times.\n",
    "\n",
    "To rotate a list simply means to place the item in the last position of a list in the first position.\n",
    "\n",
    "INPUT:\n",
    "nums: a sorted rotated list e.g `[7,9,2,3,5]`\n",
    "\n",
    "OUTPUT:\n",
    "rotations: the number of times the original sorted list was royated e.g `[2,3,5,7,9]` is rotated 2 times."
   ]
  },
  {
   "cell_type": "code",
   "execution_count": 45,
   "id": "d9e6f3e9",
   "metadata": {},
   "outputs": [],
   "source": [
    "#Signature of function\n",
    "#We can now create the signature \n",
    "#of our function.\n",
    "\n",
    "def count_rotations_binary(nums):\n",
    "    lo = 0\n",
    "    hi = len(nums)-1\n",
    "    \n",
    "    while hi > 1:\n",
    "        mid = (lo + hi)//2\n",
    "        mid_number = nums[mid]\n",
    "        \n",
    "        print(\"lo:\",lo, \"hi:\",hi,\n",
    "              \"mid:\",mid,\n",
    "              \"mid_number:\",mid_number)\n",
    "        #check if middle element is \n",
    "        #smaller than preceding element.\n",
    "        if mid_number < nums[mid-1]:\n",
    "            return mid\n",
    "        \n",
    "        #check if answer lies on right\n",
    "        elif mid_number > nums[hi]:\n",
    "            lo = mid + 1\n",
    "        #if answer lies on left\n",
    "        else:\n",
    "            hi = mid - 1\n",
    "        \n",
    "        \n",
    "    return 0\n",
    "    "
   ]
  },
  {
   "cell_type": "code",
   "execution_count": 46,
   "id": "265d539f",
   "metadata": {},
   "outputs": [],
   "source": [
    "#test format\n",
    "test_format = {'input':\n",
    "         {'nums': [5,7,8,10,11,\n",
    "                   12,14,15,17,\n",
    "                   19]},\n",
    "         'output': 3 }"
   ]
  },
  {
   "cell_type": "markdown",
   "id": "cfde3e9d",
   "metadata": {},
   "source": [
    "Test:"
   ]
  },
  {
   "cell_type": "code",
   "execution_count": 47,
   "id": "1aee095e",
   "metadata": {},
   "outputs": [
    {
     "name": "stdout",
     "output_type": "stream",
     "text": [
      "lo: 0 hi: 9 mid: 4 mid_number: 7\n",
      "lo: 0 hi: 3 mid: 1 mid_number: 17\n",
      "lo: 2 hi: 3 mid: 2 mid_number: 19\n",
      "lo: 3 hi: 3 mid: 3 mid_number: 5\n"
     ]
    },
    {
     "data": {
      "text/plain": [
       "(3, True)"
      ]
     },
     "execution_count": 47,
     "metadata": {},
     "output_type": "execute_result"
    }
   ],
   "source": [
    "#function\n",
    "def count_rotations(nums):\n",
    "    pass\n",
    "\n",
    "#test case as a dictionary \n",
    "test = {'input':\n",
    "         {'nums': [15,17,19,5,7,\n",
    "                   8,10,11,\n",
    "                   12,14]},\n",
    "         'output': 3 }\n",
    "\n",
    "#testing our function by \n",
    "#passing in case directly.\n",
    "nums0 = test['input']['nums']\n",
    "output0 = test['output']\n",
    "result0 = count_rotations_binary(nums0)\n",
    "\n",
    "result0, result0 == output0"
   ]
  },
  {
   "cell_type": "markdown",
   "id": "b2dc3c0a",
   "metadata": {},
   "source": [
    "# Create proper test cases for the scenarios listed above"
   ]
  },
  {
   "cell_type": "markdown",
   "id": "cc044fbf",
   "metadata": {},
   "source": [
    "1.A sorted list containing 10 elements and rotated 3 times."
   ]
  },
  {
   "cell_type": "code",
   "execution_count": 48,
   "id": "6a5b1ea0",
   "metadata": {},
   "outputs": [],
   "source": [
    "test0 = test"
   ]
  },
  {
   "cell_type": "markdown",
   "id": "4f08f83a",
   "metadata": {},
   "source": [
    "2.A sorted list containing 8 elements and rotated 5 times"
   ]
  },
  {
   "cell_type": "code",
   "execution_count": 49,
   "id": "a048d435",
   "metadata": {
    "scrolled": true
   },
   "outputs": [
    {
     "name": "stdout",
     "output_type": "stream",
     "text": [
      "lo: 0 hi: 7 mid: 3 mid_number: 7\n",
      "lo: 4 hi: 7 mid: 5 mid_number: 1\n"
     ]
    },
    {
     "data": {
      "text/plain": [
       "(5, True)"
      ]
     },
     "execution_count": 49,
     "metadata": {},
     "output_type": "execute_result"
    }
   ],
   "source": [
    "# A list containing 8 elements \n",
    "#rotated 5 times.\n",
    "\n",
    "#function\n",
    "def count_rotations(nums):\n",
    "    pass\n",
    "\n",
    "#test\n",
    "test1 = {'input': {'nums': \n",
    "                   [4,5,6,7,\n",
    "                       8,1,2,3]\n",
    "             },\n",
    "             'output': 5}\n",
    "\n",
    "#testing our function by \n",
    "#passing in case directly.\n",
    "nums1 = test1['input']['nums']\n",
    "output1 = test1['output']\n",
    "\n",
    "result1 = count_rotations_binary(nums1)\n",
    "\n",
    "result1, result1 == output1"
   ]
  },
  {
   "cell_type": "markdown",
   "id": "85adaa9d",
   "metadata": {},
   "source": [
    "3.A sorted list containing `n` elements and rotated `n` times (would it give the original list?).\n"
   ]
  },
  {
   "cell_type": "code",
   "execution_count": 50,
   "id": "99c5d49b",
   "metadata": {
    "scrolled": false
   },
   "outputs": [
    {
     "name": "stdout",
     "output_type": "stream",
     "text": [
      "lo: 0 hi: 3 mid: 1 mid_number: 4\n"
     ]
    },
    {
     "data": {
      "text/plain": [
       "(0, True)"
      ]
     },
     "execution_count": 50,
     "metadata": {},
     "output_type": "execute_result"
    }
   ],
   "source": [
    "#A sorted list containing n \n",
    "#elements and rotated n times \n",
    "#(would it give the original \n",
    "#list?).\n",
    "\n",
    "#function\n",
    "def count_rotations(nums):\n",
    "    pass\n",
    "\n",
    "#test\n",
    "nums_test2_var = [2,4,6,8]\n",
    "test2 = {'input':{'nums': \n",
    "                  [2,4,6,8]}, \n",
    "         'output': 0}\n",
    "         \n",
    "\n",
    "#testing our function by \n",
    "#passing in case directly.\n",
    "nums2 = test2['input']['nums']\n",
    "output2 = test2['output']\n",
    "\n",
    "result2 = count_rotations_binary(nums2)\n",
    "\n",
    "result2, result2 == output2\n",
    "\n"
   ]
  },
  {
   "cell_type": "markdown",
   "id": "b2412f6d",
   "metadata": {},
   "source": [
    "4.A sorted list containing 1 element.\n"
   ]
  },
  {
   "cell_type": "code",
   "execution_count": 51,
   "id": "877812c2",
   "metadata": {},
   "outputs": [
    {
     "data": {
      "text/plain": [
       "(0, True)"
      ]
     },
     "execution_count": 51,
     "metadata": {},
     "output_type": "execute_result"
    }
   ],
   "source": [
    "#A sorted list containing 1 \n",
    "#element\n",
    "\n",
    "#function\n",
    "def count_rotations(nums):\n",
    "    pass\n",
    "\n",
    "#test\n",
    "test3 = {'input':{'nums': [3]},\n",
    "            'output': 0}\n",
    "\n",
    "#testing our function by \n",
    "#passing in case directly.\n",
    "nums3 = test3['input']['nums']\n",
    "output3 = test3['output']\n",
    "\n",
    "result3 = count_rotations_binary(nums3)\n",
    "\n",
    "result3, result3 == output3"
   ]
  },
  {
   "cell_type": "markdown",
   "id": "0032a394",
   "metadata": {},
   "source": [
    "5.A sorted list containing no elements( an empty list)\n"
   ]
  },
  {
   "cell_type": "code",
   "execution_count": 57,
   "id": "b5a85994",
   "metadata": {},
   "outputs": [
    {
     "data": {
      "text/plain": [
       "(0, True)"
      ]
     },
     "execution_count": 57,
     "metadata": {},
     "output_type": "execute_result"
    }
   ],
   "source": [
    "# an empty list.\n",
    "\n",
    "\n",
    "#function\n",
    "def count_rotations(nums):\n",
    "    pass\n",
    "\n",
    "#test\n",
    "test4 = {'input':{'nums':[]},\n",
    "            'output': 0}\n",
    "\n",
    "#testing our function by \n",
    "#passing in case directly.\n",
    "nums4 = test4['input']['nums']\n",
    "output4 = test4['output']\n",
    "result4 = count_rotations_binary(nums4)\n",
    "result4, result4 == output4"
   ]
  },
  {
   "cell_type": "markdown",
   "id": "e92950b6",
   "metadata": {},
   "source": [
    "6.A sorted list that was not rotated at all.\n"
   ]
  },
  {
   "cell_type": "code",
   "execution_count": 58,
   "id": "4c307aa9",
   "metadata": {},
   "outputs": [
    {
     "name": "stdout",
     "output_type": "stream",
     "text": [
      "lo: 0 hi: 5 mid: 2 mid_number: 6\n"
     ]
    },
    {
     "data": {
      "text/plain": [
       "(0, True)"
      ]
     },
     "execution_count": 58,
     "metadata": {},
     "output_type": "execute_result"
    }
   ],
   "source": [
    "#a sorted list that was not \n",
    "#rotated at all.\n",
    "\n",
    "#function\n",
    "def count_rotations(nums):\n",
    "    pass\n",
    "\n",
    "#test\n",
    "test5 = {'input':{'nums': \n",
    "                  [3,4,6,7,8,9]\n",
    "                 },\n",
    "            'output': 0}\n",
    "\n",
    "#testing our function by \n",
    "#passing in case directly.\n",
    "nums5 = test5['input']['nums']\n",
    "output5 = test5['output']\n",
    "result5 = count_rotations_binary(nums5)\n",
    "result5, result5 == output5"
   ]
  },
  {
   "cell_type": "markdown",
   "id": "757d13cd",
   "metadata": {},
   "source": [
    "7.A list that was rotated `n-1` times, where `n` is the number of elements.\n",
    "\n"
   ]
  },
  {
   "cell_type": "code",
   "execution_count": 61,
   "id": "fecc3625",
   "metadata": {},
   "outputs": [
    {
     "name": "stdout",
     "output_type": "stream",
     "text": [
      "lo: 0 hi: 5 mid: 2 mid_number: 4\n",
      "lo: 3 hi: 5 mid: 4 mid_number: 6\n",
      "lo: 5 hi: 5 mid: 5 mid_number: 1\n"
     ]
    },
    {
     "data": {
      "text/plain": [
       "(5, True)"
      ]
     },
     "execution_count": 61,
     "metadata": {},
     "output_type": "execute_result"
    }
   ],
   "source": [
    "#function\n",
    "def count_rotations(nums):\n",
    "    pass\n",
    "\n",
    "#test\n",
    "test6 = {'input': \n",
    "         {'nums': [2,3,4,5,6,1]},\n",
    "        'output': 5}\n",
    "\n",
    "#pass in the cases directly to\n",
    "# test function.\n",
    "\n",
    "nums6 = test6['input']['nums']\n",
    "output6 = test6['output']\n",
    "\n",
    "result6 = count_rotations_binary(nums6)\n",
    "\n",
    "result6, result6 == output6"
   ]
  },
  {
   "cell_type": "markdown",
   "id": "912081c3",
   "metadata": {},
   "source": [
    "8.A list that was rotated once."
   ]
  },
  {
   "cell_type": "code",
   "execution_count": 62,
   "id": "fa787905",
   "metadata": {},
   "outputs": [
    {
     "name": "stdout",
     "output_type": "stream",
     "text": [
      "lo: 0 hi: 6 mid: 3 mid_number: 3\n",
      "lo: 0 hi: 2 mid: 1 mid_number: 1\n"
     ]
    },
    {
     "data": {
      "text/plain": [
       "(1, True)"
      ]
     },
     "execution_count": 62,
     "metadata": {},
     "output_type": "execute_result"
    }
   ],
   "source": [
    "#a list that was rotated once.\n",
    "\n",
    "\n",
    "#function\n",
    "def count_rotations(nums):\n",
    "    pass\n",
    "\n",
    "#test\n",
    "test7 = {'input':{'nums': \n",
    "                  [7,1,2,3,4,5,\n",
    "                   6]},\n",
    "            'output': 1}\n",
    "\n",
    "#testing our function by \n",
    "#passing in case directly.\n",
    "nums7 = test7['input']['nums']\n",
    "output7 = test7['output']\n",
    "\n",
    "result7 = count_rotations_binary(nums7)\n",
    "\n",
    "result7, result7 == output7\n"
   ]
  },
  {
   "cell_type": "code",
   "execution_count": 63,
   "id": "bca01056",
   "metadata": {},
   "outputs": [],
   "source": [
    "tests = [test0, test1, test2,\n",
    "        test3, test4, test5,\n",
    "        test6, test7]"
   ]
  },
  {
   "cell_type": "code",
   "execution_count": 64,
   "id": "0a6cdcb0",
   "metadata": {},
   "outputs": [
    {
     "data": {
      "text/plain": [
       "[{'input': {'nums': [15, 17, 19, 5, 7, 8, 10, 11, 12, 14]}, 'output': 3},\n",
       " {'input': {'nums': [4, 5, 6, 7, 8, 1, 2, 3]}, 'output': 5},\n",
       " {'input': {'nums': [2, 4, 6, 8]}, 'output': 0},\n",
       " {'input': {'nums': [3]}, 'output': 0},\n",
       " {'input': {'nums': []}, 'output': 0},\n",
       " {'input': {'nums': [3, 4, 6, 7, 8, 9]}, 'output': 0},\n",
       " {'input': {'nums': [2, 3, 4, 5, 6, 1]}, 'output': 5},\n",
       " {'input': {'nums': [7, 1, 2, 3, 4, 5, 6]}, 'output': 1}]"
      ]
     },
     "execution_count": 64,
     "metadata": {},
     "output_type": "execute_result"
    }
   ],
   "source": [
    "tests"
   ]
  },
  {
   "cell_type": "markdown",
   "id": "013c0a51",
   "metadata": {},
   "source": [
    "Test Evaluation Function"
   ]
  },
  {
   "cell_type": "code",
   "execution_count": 65,
   "id": "a1cb2a85",
   "metadata": {},
   "outputs": [],
   "source": [
    "def evaluate_test_cases(\n",
    "count_rotations, tests):\n",
    "    case_number = 0\n",
    "    passed = 0\n",
    "    failed = 0\n",
    "    for test in tests:\n",
    "        print(\"#CASE\", \n",
    "              case_number, \"\\n\\n\")\n",
    "        print(\"Input:\\n\",\n",
    "              \"nums:\",\n",
    "              test['input']['nums'],\n",
    "             \"\\n\\n\")\n",
    "        print(\"Expected output: \",\n",
    "              test['output'], \"\\n\\n\")\n",
    "        \n",
    "        #passing in the cases.\n",
    "        nums = test['input']['nums']\n",
    "        output = test['output']\n",
    "        result = count_rotations(nums) \n",
    "        #^^ ACTUAL OUTPUT ^^\n",
    "        \n",
    "        print(\"Actual output: \",\n",
    "              result, \"\\n\\n\")\n",
    "        #condition for case validation.\n",
    "        if result == output:\n",
    "            print(\"result:PASSED\", \"\\n\\n\\n\")\n",
    "            passed += 1\n",
    "        else:\n",
    "            print(\"result:FAILED\", \"\\n\\n\\n\")\n",
    "            failed += 1\n",
    "            \n",
    "         \n",
    "        if case_number == (len(tests)-1):\n",
    "            print(\"#SUMMARY\\n\")\n",
    "            print(\"TEST CASES:\", case_number + 1,\n",
    "                  \"\\n\"\n",
    "                  \"PASSED:\", passed,\n",
    "                  \"\\n\"\n",
    "                  \"FAILED:\", failed)\n",
    "        \n",
    "        #increment case_number.\n",
    "        case_number += 1\n",
    "        \n",
    "        "
   ]
  },
  {
   "cell_type": "code",
   "execution_count": 68,
   "id": "356d9912",
   "metadata": {},
   "outputs": [
    {
     "name": "stdout",
     "output_type": "stream",
     "text": [
      "#CASE 0 \n",
      "\n",
      "\n",
      "Input:\n",
      " nums: [15, 17, 19, 5, 7, 8, 10, 11, 12, 14] \n",
      "\n",
      "\n",
      "Expected output:  3 \n",
      "\n",
      "\n",
      "lo: 0 hi: 9 mid: 4 mid_number: 7\n",
      "lo: 0 hi: 3 mid: 1 mid_number: 17\n",
      "lo: 2 hi: 3 mid: 2 mid_number: 19\n",
      "lo: 3 hi: 3 mid: 3 mid_number: 5\n",
      "Actual output:  3 \n",
      "\n",
      "\n",
      "result:PASSED \n",
      "\n",
      "\n",
      "\n",
      "#CASE 1 \n",
      "\n",
      "\n",
      "Input:\n",
      " nums: [4, 5, 6, 7, 8, 1, 2, 3] \n",
      "\n",
      "\n",
      "Expected output:  5 \n",
      "\n",
      "\n",
      "lo: 0 hi: 7 mid: 3 mid_number: 7\n",
      "lo: 4 hi: 7 mid: 5 mid_number: 1\n",
      "Actual output:  5 \n",
      "\n",
      "\n",
      "result:PASSED \n",
      "\n",
      "\n",
      "\n",
      "#CASE 2 \n",
      "\n",
      "\n",
      "Input:\n",
      " nums: [2, 4, 6, 8] \n",
      "\n",
      "\n",
      "Expected output:  0 \n",
      "\n",
      "\n",
      "lo: 0 hi: 3 mid: 1 mid_number: 4\n",
      "Actual output:  0 \n",
      "\n",
      "\n",
      "result:PASSED \n",
      "\n",
      "\n",
      "\n",
      "#CASE 3 \n",
      "\n",
      "\n",
      "Input:\n",
      " nums: [3] \n",
      "\n",
      "\n",
      "Expected output:  0 \n",
      "\n",
      "\n",
      "Actual output:  0 \n",
      "\n",
      "\n",
      "result:PASSED \n",
      "\n",
      "\n",
      "\n",
      "#CASE 4 \n",
      "\n",
      "\n",
      "Input:\n",
      " nums: [] \n",
      "\n",
      "\n",
      "Expected output:  0 \n",
      "\n",
      "\n",
      "Actual output:  0 \n",
      "\n",
      "\n",
      "result:PASSED \n",
      "\n",
      "\n",
      "\n",
      "#CASE 5 \n",
      "\n",
      "\n",
      "Input:\n",
      " nums: [3, 4, 6, 7, 8, 9] \n",
      "\n",
      "\n",
      "Expected output:  0 \n",
      "\n",
      "\n",
      "lo: 0 hi: 5 mid: 2 mid_number: 6\n",
      "Actual output:  0 \n",
      "\n",
      "\n",
      "result:PASSED \n",
      "\n",
      "\n",
      "\n",
      "#CASE 6 \n",
      "\n",
      "\n",
      "Input:\n",
      " nums: [2, 3, 4, 5, 6, 1] \n",
      "\n",
      "\n",
      "Expected output:  5 \n",
      "\n",
      "\n",
      "lo: 0 hi: 5 mid: 2 mid_number: 4\n",
      "lo: 3 hi: 5 mid: 4 mid_number: 6\n",
      "lo: 5 hi: 5 mid: 5 mid_number: 1\n",
      "Actual output:  5 \n",
      "\n",
      "\n",
      "result:PASSED \n",
      "\n",
      "\n",
      "\n",
      "#CASE 7 \n",
      "\n",
      "\n",
      "Input:\n",
      " nums: [7, 1, 2, 3, 4, 5, 6] \n",
      "\n",
      "\n",
      "Expected output:  1 \n",
      "\n",
      "\n",
      "lo: 0 hi: 6 mid: 3 mid_number: 3\n",
      "lo: 0 hi: 2 mid: 1 mid_number: 1\n",
      "Actual output:  1 \n",
      "\n",
      "\n",
      "result:PASSED \n",
      "\n",
      "\n",
      "\n",
      "#SUMMARY\n",
      "\n",
      "TEST CASES: 8 \n",
      "PASSED: 8 \n",
      "FAILED: 0\n"
     ]
    }
   ],
   "source": [
    "evaluate_test_cases(count_rotations_binary, tests)\n"
   ]
  },
  {
   "cell_type": "code",
   "execution_count": null,
   "id": "d0d9e6c0",
   "metadata": {},
   "outputs": [],
   "source": []
  }
 ],
 "metadata": {
  "kernelspec": {
   "display_name": "Python 3 (ipykernel)",
   "language": "python",
   "name": "python3"
  },
  "language_info": {
   "codemirror_mode": {
    "name": "ipython",
    "version": 3
   },
   "file_extension": ".py",
   "mimetype": "text/x-python",
   "name": "python",
   "nbconvert_exporter": "python",
   "pygments_lexer": "ipython3",
   "version": "3.9.7"
  }
 },
 "nbformat": 4,
 "nbformat_minor": 5
}
