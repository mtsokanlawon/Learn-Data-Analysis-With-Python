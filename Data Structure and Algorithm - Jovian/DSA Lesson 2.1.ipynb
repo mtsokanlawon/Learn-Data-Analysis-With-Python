{
 "cells": [
  {
   "cell_type": "markdown",
   "id": "d1f72cd5",
   "metadata": {},
   "source": [
    "# QUESTION:\n",
    "As a Senior backend engineer at Jovian, you are tasked with developing a fast in-memory data structure to manage profile information (Username, name and email) for 100million users. It should allow rhe following operations to be performed effectively:\n",
    "1. `Insert` the profile information for a new user.\n",
    "2. `Find` the profile information of a user, given their username.\n",
    "3. `Update` the profile information of a user, given their username.\n",
    "4. `List` all the users of the platform, sorted by username.\n",
    "\n",
    "You can assume that usernames are unique.\n"
   ]
  },
  {
   "cell_type": "markdown",
   "id": "f7015637",
   "metadata": {},
   "source": [
    "# 1.Write the Problem in Your Own Words and Define Inputs and Outputs. "
   ]
  },
  {
   "cell_type": "markdown",
   "id": "6d35af8f",
   "metadata": {},
   "source": [
    "Problem:\n",
    "we need to create a data structure which can store 100million records and perform `insertion, search, update and list` operations efficiently."
   ]
  },
  {
   "cell_type": "markdown",
   "id": "d4c22395",
   "metadata": {},
   "source": [
    "Input:Our inputs will be profile informations`( username,name,email)` of the user which can be stored using class as a data structure.\n",
    "\n",
    "Output: Our output are the operations(`insert`, `find`, `update`, `list`) to be performed on the data structure. we can also define these using a class and assigning the operations as atributes of the class."
   ]
  },
  {
   "cell_type": "markdown",
   "id": "cf6cade7",
   "metadata": {},
   "source": [
    "# INPUT"
   ]
  },
  {
   "cell_type": "code",
   "execution_count": 38,
   "id": "77043388",
   "metadata": {},
   "outputs": [],
   "source": [
    "class User:\n",
    "    \n",
    "    def __init__(self, username, name, email):\n",
    "        \n",
    "        self.username = username\n",
    "        self.name = name\n",
    "        self.email = email \n",
    "        print(\"User profile created\")\n",
    "        \n",
    "    #def __repr__(self):\n",
    "        #return f\"user(username:'{self.username}', name:'{self.name}', email:'{self.email}')\"\n",
    "    \n",
    "    def __repr__(self):\n",
    "        return \"user(username = '{}', name = '{}', email = '{}')\".format(self.username, self.name, self.email)\n",
    "    \n",
    "    def __str__(self):\n",
    "        return self.__repr__()\n",
    " "
   ]
  },
  {
   "cell_type": "code",
   "execution_count": 2,
   "id": "f0723c66",
   "metadata": {},
   "outputs": [
    {
     "name": "stdout",
     "output_type": "stream",
     "text": [
      "User profile created\n"
     ]
    }
   ],
   "source": [
    "\n",
    "user1 = User(\"Code_Evolver\", \"Goody\",\n",
    "             \"goody@mail.com\")\n"
   ]
  },
  {
   "cell_type": "code",
   "execution_count": 3,
   "id": "3602ad8c",
   "metadata": {
    "scrolled": true
   },
   "outputs": [
    {
     "name": "stdout",
     "output_type": "stream",
     "text": [
      "user(username = 'Code_Evolver', name = 'Goody', email = 'goody@mail.com')\n"
     ]
    }
   ],
   "source": [
    "print(user1)"
   ]
  },
  {
   "cell_type": "markdown",
   "id": "abefad20",
   "metadata": {},
   "source": [
    "# OUTPUT \n",
    "`insert, find, update, list`"
   ]
  },
  {
   "cell_type": "code",
   "execution_count": 4,
   "id": "43d5718d",
   "metadata": {},
   "outputs": [],
   "source": [
    "class UserDatabase:\n",
    "    def insert(self, user):\n",
    "        pass \n",
    "    def find(self, username):\n",
    "        pass \n",
    "    def update(self, user):\n",
    "        pass \n",
    "    def list_all(self):\n",
    "        pass"
   ]
  },
  {
   "cell_type": "markdown",
   "id": "4062b7d9",
   "metadata": {},
   "source": [
    "# 2.Write example inputs and outputs, Try all edge cases."
   ]
  },
  {
   "cell_type": "markdown",
   "id": "7f79381d",
   "metadata": {},
   "source": [
    "Example inputs:"
   ]
  },
  {
   "cell_type": "code",
   "execution_count": 5,
   "id": "d04ec1ab",
   "metadata": {
    "scrolled": true
   },
   "outputs": [
    {
     "name": "stdout",
     "output_type": "stream",
     "text": [
      "User profile created\n",
      "User profile created\n",
      "User profile created\n",
      "User profile created\n",
      "User profile created\n",
      "User profile created\n",
      "User profile created\n"
     ]
    }
   ],
   "source": [
    "dave = User(\"Dave\", \"Dave Mark\",\n",
    "            \"dave@mail.com\")\n",
    "john = User(\"John\", \"John Doe\",\n",
    "            \"john@mail.com\")\n",
    "mark = User(\"Mark\", \"Mark Harry\",\n",
    "            \"mark@mail.com\")\n",
    "peter = User(\"Peter\",\"Peter Roy\",\n",
    "             \"peter@mail.com\")\n",
    "quinn = User(\"Quinn\", \"Quinn Doe\",\n",
    "            \"quinn@mail.com\")\n",
    "ray = User(\"Ray\", \"Ray Blow\",\n",
    "            \"ray@mail.com\")\n",
    "Kane = User(\"Mark\", \"Mark Kane\",\n",
    "            \"kane@mail.com\")\n"
   ]
  },
  {
   "cell_type": "code",
   "execution_count": 6,
   "id": "7c226aab",
   "metadata": {},
   "outputs": [],
   "source": [
    "users = [dave, john, mark, peter,\n",
    "         quinn, ray]"
   ]
  },
  {
   "cell_type": "code",
   "execution_count": 7,
   "id": "36f2fcfc",
   "metadata": {},
   "outputs": [
    {
     "name": "stdout",
     "output_type": "stream",
     "text": [
      "user(username = 'Dave', name = 'Dave Mark', email = 'dave@mail.com')\n"
     ]
    }
   ],
   "source": [
    "print(dave)"
   ]
  },
  {
   "cell_type": "markdown",
   "id": "bdf924d8",
   "metadata": {},
   "source": [
    "Example outputs:"
   ]
  },
  {
   "cell_type": "markdown",
   "id": "8ccf1dc3",
   "metadata": {},
   "source": [
    "Since we have not yet implement our data structures we can not come up with list outputs but we can write scenario test output cases for `insert`, `find`, `update` and `list_all`.\n",
    "\n",
    "\n",
    "1. Insert:\n",
    "\n",
    "   A. inserting into an empty database.\n",
    "   \n",
    "   B. inserting a username that already exists in the database.\n",
    "   \n",
    "   C. inserting a username that doesn't exist in the Database.\n",
    "   \n",
    "   D:inserting alphanumeric as user name into the database. \n",
    "   \n",
    "   E. inserting multiple users at a time with unique user names.\n",
    "   \n",
    "   F. inserting multiple users at the same time with repeating username.\n",
    "   \n",
    "   \n",
    "   \n",
    "2. Find:\n",
    "\n",
    "   A. searching an empty Database.\n",
    "   \n",
    "   B. searching a user in the database with a user name that doesn't exist.\n",
    "   \n",
    "   C. Searching a user with an existing username.\n",
    "   \n",
    "   D. searching multiple users at a time.\n",
    "   \n",
    "   E. Searching user that shares username with another user if possible.\n",
    "   \n",
    "   \n",
    "   \n",
    "3. Update:\n",
    "\n",
    "   A. updating an empty database. \n",
    "   \n",
    "   B. updating a user with no initial record on the Database.\n",
    "   \n",
    "   C. updating an existing user record in a database.\n",
    "   \n",
    "   D. updating a user record without change in user profile.\n",
    "   \n",
    "   \n",
    "   \n",
    "4. List_all:\n",
    "\n",
    "   A. list of all users in a database.\n",
    "   \n",
    "   B. list of all users except one.\n",
    "   \n",
    "   C.list of all users' username.\n",
    "   \n",
    "   D.list of all users' email."
   ]
  },
  {
   "cell_type": "markdown",
   "id": "10a3ca31",
   "metadata": {},
   "source": [
    "# 3.Come Up With Correct Solution and State it in Plain English"
   ]
  },
  {
   "cell_type": "markdown",
   "id": "03561548",
   "metadata": {},
   "source": [
    "Here is a simple and easy solution to the problem. We store `User` Objects in a list sorted by usernames.\n",
    "\n",
    "The functions can be implemented as follows:\n",
    " 1. Insert:Loop through the list and add a new user at a position that keeps the list sorted. \n",
    " 2. Find:Loop through the list and find the user object with a username matching the query.\n",
    " 3. Update:Loop through the list to find the user object matching the query and update the details.\n",
    " 4. List: Return the list of user objects. \n",
    "\n",
    "We can use the fact username, string can be compared using `<`,`>` and `==` operators in python."
   ]
  },
  {
   "cell_type": "code",
   "execution_count": 8,
   "id": "585269da",
   "metadata": {},
   "outputs": [
    {
     "name": "stdout",
     "output_type": "stream",
     "text": [
      "dave , john\n"
     ]
    }
   ],
   "source": [
    "a = \"john\"\n",
    "b = \"dave\"\n",
    "c = a > b\n",
    "if c == True:\n",
    "    print(b,\",\",a)\n",
    "else:\n",
    "    print(a,\",\",b)\n",
    "    "
   ]
  },
  {
   "cell_type": "code",
   "execution_count": 9,
   "id": "bbac2fe7",
   "metadata": {},
   "outputs": [],
   "source": [
    "class UserDatabase:\n",
    "    def __init__(self):\n",
    "        self.users = []\n",
    "    def insert(self, user):\n",
    "        #let index position = i \n",
    "        i = 0\n",
    "        while i < (len(self.users)):\n",
    "            if len(self.users) > 0:\n",
    "                if self.users[i].username > user.username:\n",
    "                    break \n",
    "            i += 1\n",
    "        #self.users.insert(position to insert user, user to be inserted)\n",
    "        self.users.insert(i, user)\n",
    "        return \"New user(s) entered\"\n",
    "        \n",
    "    def find(self, username):\n",
    "        for user in self.users:\n",
    "            if user.username == username:\n",
    "                return user \n",
    "                break \n",
    "                \n",
    "    def update(self, user):\n",
    "        target = self.find(user.username)\n",
    "        \n",
    "        target.email = user.email\n",
    "        target.name = user.name\n",
    "        updated = (f\"name:{target.name == user.name}\",\n",
    "                  f\"email:{target.email == user.email}\")\n",
    "        return f\"updated:{updated}\"\n",
    "    \n",
    "    def list_all(self):\n",
    "        return self.users"
   ]
  },
  {
   "cell_type": "code",
   "execution_count": 10,
   "id": "eccacbb5",
   "metadata": {},
   "outputs": [],
   "source": [
    "database = UserDatabase()"
   ]
  },
  {
   "cell_type": "code",
   "execution_count": 11,
   "id": "3f7edd1b",
   "metadata": {},
   "outputs": [
    {
     "data": {
      "text/plain": [
       "'New user(s) entered'"
      ]
     },
     "execution_count": 11,
     "metadata": {},
     "output_type": "execute_result"
    }
   ],
   "source": [
    "database.insert(dave)\n",
    "database.insert(quinn)\n",
    "database.insert(mark)"
   ]
  },
  {
   "cell_type": "code",
   "execution_count": 12,
   "id": "1c40b81f",
   "metadata": {},
   "outputs": [
    {
     "data": {
      "text/plain": [
       "[user(username = 'Dave', name = 'Dave Mark', email = 'dave@mail.com'),\n",
       " user(username = 'Mark', name = 'Mark Harry', email = 'mark@mail.com'),\n",
       " user(username = 'Quinn', name = 'Quinn Doe', email = 'quinn@mail.com')]"
      ]
     },
     "execution_count": 12,
     "metadata": {},
     "output_type": "execute_result"
    }
   ],
   "source": [
    "database.list_all()"
   ]
  },
  {
   "cell_type": "code",
   "execution_count": 13,
   "id": "fa5dcf79",
   "metadata": {},
   "outputs": [
    {
     "data": {
      "text/plain": [
       "'New user(s) entered'"
      ]
     },
     "execution_count": 13,
     "metadata": {},
     "output_type": "execute_result"
    }
   ],
   "source": [
    "database.insert(john)"
   ]
  },
  {
   "cell_type": "code",
   "execution_count": 14,
   "id": "f97640dd",
   "metadata": {},
   "outputs": [
    {
     "data": {
      "text/plain": [
       "[user(username = 'Dave', name = 'Dave Mark', email = 'dave@mail.com'),\n",
       " user(username = 'John', name = 'John Doe', email = 'john@mail.com'),\n",
       " user(username = 'Mark', name = 'Mark Harry', email = 'mark@mail.com'),\n",
       " user(username = 'Quinn', name = 'Quinn Doe', email = 'quinn@mail.com')]"
      ]
     },
     "execution_count": 14,
     "metadata": {},
     "output_type": "execute_result"
    }
   ],
   "source": [
    "database.list_all()"
   ]
  },
  {
   "cell_type": "code",
   "execution_count": 15,
   "id": "c1ea55c5",
   "metadata": {},
   "outputs": [
    {
     "data": {
      "text/plain": [
       "'New user(s) entered'"
      ]
     },
     "execution_count": 15,
     "metadata": {},
     "output_type": "execute_result"
    }
   ],
   "source": [
    "#This function inserts another \n",
    "#profile of the user \"mark\"\n",
    "#This is User duplication!(problem)\n",
    "database.insert(mark)"
   ]
  },
  {
   "cell_type": "code",
   "execution_count": 16,
   "id": "03cce084",
   "metadata": {},
   "outputs": [
    {
     "name": "stdout",
     "output_type": "stream",
     "text": [
      "Search Not found!\n"
     ]
    }
   ],
   "source": [
    "try:\n",
    "    database.find(trunk)\n",
    "except:\n",
    "    print(\"Search Not found!\")"
   ]
  },
  {
   "cell_type": "code",
   "execution_count": 17,
   "id": "c2e0dee3",
   "metadata": {},
   "outputs": [
    {
     "data": {
      "text/plain": [
       "[user(username = 'Dave', name = 'Dave Mark', email = 'dave@mail.com'),\n",
       " user(username = 'John', name = 'John Doe', email = 'john@mail.com'),\n",
       " user(username = 'Mark', name = 'Mark Harry', email = 'mark@mail.com'),\n",
       " user(username = 'Mark', name = 'Mark Harry', email = 'mark@mail.com'),\n",
       " user(username = 'Quinn', name = 'Quinn Doe', email = 'quinn@mail.com')]"
      ]
     },
     "execution_count": 17,
     "metadata": {},
     "output_type": "execute_result"
    }
   ],
   "source": [
    "#To show duplication in the \n",
    "#database due to the insert() function \n",
    "database.list_all()"
   ]
  },
  {
   "cell_type": "code",
   "execution_count": 18,
   "id": "8d9225a8",
   "metadata": {
    "scrolled": true
   },
   "outputs": [
    {
     "name": "stdout",
     "output_type": "stream",
     "text": [
      "User profile created\n"
     ]
    },
    {
     "data": {
      "text/plain": [
       "\"updated:('name:True', 'email:True')\""
      ]
     },
     "execution_count": 18,
     "metadata": {},
     "output_type": "execute_result"
    }
   ],
   "source": [
    "database.update(User(username =\"Mark\",name = \"Mark M\",email = \"markm@mail\" ))\n",
    "#This function creates a new \n",
    "#profile detail\n",
    "#And updates the detail for any \n",
    "#given instance of the \"username\"\n",
    "#which shows that we should a avoid \n",
    "#username duplication in the \n",
    "#database\n",
    "#OR\n",
    "#???"
   ]
  },
  {
   "cell_type": "code",
   "execution_count": 19,
   "id": "569640d1",
   "metadata": {
    "scrolled": true
   },
   "outputs": [
    {
     "name": "stdout",
     "output_type": "stream",
     "text": [
      "[user(username = 'Dave', name = 'Dave Mark', email = 'dave@mail.com'), user(username = 'John', name = 'John Doe', email = 'john@mail.com'), user(username = 'Mark', name = 'Mark M', email = 'markm@mail'), user(username = 'Mark', name = 'Mark M', email = 'markm@mail'), user(username = 'Quinn', name = 'Quinn Doe', email = 'quinn@mail.com')]\n",
      "No of users:5\n"
     ]
    }
   ],
   "source": [
    "#This shows of all given instance \n",
    "#of a username is updated.\n",
    "list_of_users = database.list_all()\n",
    "print(list_of_users)\n",
    "print(f\"No of users:{len(list_of_users)}\")"
   ]
  },
  {
   "cell_type": "code",
   "execution_count": 20,
   "id": "2ea1e4c7",
   "metadata": {},
   "outputs": [
    {
     "data": {
      "text/plain": [
       "user(username = 'Mark', name = 'Mark M', email = 'markm@mail')"
      ]
     },
     "execution_count": 20,
     "metadata": {},
     "output_type": "execute_result"
    }
   ],
   "source": [
    "#Only an instance of this username \n",
    "#is located in the database\n",
    "#as it is linear search \n",
    "#Automatically the first instance \n",
    "#is found and returned as output.\n",
    "#Emphasises the fact that only \n",
    "#an instance of a username should \n",
    "#be allowed in the database \n",
    "#even if users are different.\n",
    "user = database.find(\"Mark\")\n",
    "user"
   ]
  },
  {
   "cell_type": "markdown",
   "id": "556021a7",
   "metadata": {},
   "source": [
    "# Now let's run tests for our output cases"
   ]
  },
  {
   "cell_type": "markdown",
   "id": "2d0610ee",
   "metadata": {},
   "source": [
    "1. Insert:\n",
    "   A. inserting into an empty database.\n",
    "   \n",
    "   B. inserting a username that already exists in the database.\n",
    "   \n",
    "   C. inserting a username that doesn't exist in the Database.\n",
    "   \n",
    "   D:inserting alphanumeric as user name into the database. \n",
    "   \n",
    "   E. inserting multiple users at a time with unique user names.\n",
    "   \n",
    "   F. inserting multiple users at the same time with repeating username.\n",
    "   \n",
    "   \n",
    "   \n",
    "2. Find:\n",
    "   A. searching an empty Database.\n",
    "   \n",
    "   B. searching a user in the database with a user name that doesn't exist.\n",
    "   \n",
    "   C. Searching a user with an existing username.\n",
    "   \n",
    "   D. searching multiple users at a time.\n",
    "   \n",
    "   E. Searching user that shares username with another user if possible.\n",
    "   \n",
    "   \n",
    "   \n",
    "3. Update:\n",
    "   A. updating an empty database. \n",
    "   \n",
    "   B. updating a user with no initial record on the Database.\n",
    "   \n",
    "   C. updating an existing user record in a database.\n",
    "   \n",
    "   D. updating a user record without change in user profile.\n",
    "   \n",
    "   \n",
    "   \n",
    "4. List_all:\n",
    "   A. list of all users in a database.\n",
    "   \n",
    "   B. list of all users except one.\n",
    "   \n",
    "   C.list of all users' username.\n",
    "   \n",
    "   D.list of all users' email"
   ]
  },
  {
   "cell_type": "raw",
   "id": "61aa52a0",
   "metadata": {},
   "source": [
    "insert:\n",
    "D:inserting alphanumeric as user name into the database.\n",
    "E. inserting multiple users at a time with unique user names.\n",
    "F. inserting multiple users at the same time with repeating username."
   ]
  },
  {
   "cell_type": "code",
   "execution_count": 21,
   "id": "728e42c8",
   "metadata": {},
   "outputs": [
    {
     "name": "stdout",
     "output_type": "stream",
     "text": [
      "User profile created\n"
     ]
    }
   ],
   "source": [
    "garry = User(\"Garry2\",\"Garry Dem\",\"garry@mail\")"
   ]
  },
  {
   "cell_type": "code",
   "execution_count": 22,
   "id": "bdf20434",
   "metadata": {},
   "outputs": [],
   "source": [
    "test = {'input':{'database':database},\n",
    "        'output':\"New user(s) entered\"}"
   ]
  },
  {
   "cell_type": "code",
   "execution_count": 23,
   "id": "1f9a78c2",
   "metadata": {},
   "outputs": [
    {
     "data": {
      "text/plain": [
       "('New user(s) entered', 'New user(s) entered', True)"
      ]
     },
     "execution_count": 23,
     "metadata": {},
     "output_type": "execute_result"
    }
   ],
   "source": [
    "users = test['input']['database']\n",
    "output = test['output']\n",
    "\n",
    "result = database.insert(garry)\n",
    "\n",
    "output, result, output == result\n"
   ]
  },
  {
   "cell_type": "raw",
   "id": "455100ca",
   "metadata": {},
   "source": [
    "Find: A. searching an empty Database.\n",
    "B. searching a user in the database with a user name that doesn't exist.\n",
    "C. Searching a user with an existing username.\n",
    "D. searching multiple users at a time.\n",
    "E. Searching user that shares username with another user if possible."
   ]
  },
  {
   "cell_type": "code",
   "execution_count": null,
   "id": "a2d38e38",
   "metadata": {},
   "outputs": [],
   "source": [
    "\n",
    "test2 = {'input':{'database':database},\n",
    "         \n",
    "        'output':user}"
   ]
  },
  {
   "cell_type": "code",
   "execution_count": 37,
   "id": "934890f1",
   "metadata": {},
   "outputs": [
    {
     "data": {
      "text/plain": [
       "(None,\n",
       " (user(username = 'Mark', name = 'Mark M', email = 'markm@mail'),\n",
       "  user(username = 'Garry2', name = 'Garry Dem', email = 'garry@mail'),\n",
       "  user(username = 'John', name = 'John Doe', email = 'john@mail.com')),\n",
       " False)"
      ]
     },
     "execution_count": 37,
     "metadata": {},
     "output_type": "execute_result"
    }
   ],
   "source": [
    "users2 = test2['input']['database']\n",
    "output2 = test2['output']\n",
    "\n",
    "#Note: a user is searched given \n",
    "#the username(case sensitive)\n",
    "result2 = database.find(\"Mark\"), database.find(\"Garry2\"), database.find(\"John\")\n",
    "\n",
    "output2, result2, output2 == result2\n",
    "\n",
    "   \n",
    " "
   ]
  },
  {
   "cell_type": "raw",
   "id": "40074c86",
   "metadata": {},
   "source": [
    "Update: A. updating an empty database.\n",
    "B. updating a user with no initial record on the Database.\n",
    "C. updating an existing user record in a database.\n",
    "D. updating a user record without change in user profile."
   ]
  },
  {
   "cell_type": "code",
   "execution_count": null,
   "id": "8fcefb3a",
   "metadata": {},
   "outputs": [],
   "source": [
    "test3 = {'input':{'database':database},\n",
    "         'output':\"updated:('name:True', 'email:True')\"\n",
    "        }"
   ]
  },
  {
   "cell_type": "code",
   "execution_count": null,
   "id": "d1156806",
   "metadata": {
    "scrolled": false
   },
   "outputs": [],
   "source": [
    "users3 = test3['input']['database']\n",
    "output3 = test3['output']\n",
    "\n",
    "result3 = database.update(User(\"Mark\", \"Mark Kenny\", \"markny@mail\"))\n",
    "\n",
    "result3, result3 == output3"
   ]
  },
  {
   "cell_type": "raw",
   "id": "67b45890",
   "metadata": {},
   "source": [
    "List_all: A. list of all users in a database.\n",
    "B. list of all users except one.\n",
    "C.list of all users' username.\n",
    "D.list of all users' email"
   ]
  },
  {
   "cell_type": "code",
   "execution_count": null,
   "id": "8c129b69",
   "metadata": {},
   "outputs": [],
   "source": [
    "test4 = {'input':{'database':database},\n",
    "         'output':database.list_all()}"
   ]
  },
  {
   "cell_type": "code",
   "execution_count": null,
   "id": "55fa91ed",
   "metadata": {},
   "outputs": [],
   "source": [
    "users4 = test4['input']['database']\n",
    "output4 = test4['output']\n",
    "\n",
    "result4 = database.list_all()\n",
    "\n",
    "result4 == output4"
   ]
  },
  {
   "cell_type": "code",
   "execution_count": null,
   "id": "b10a9bc9",
   "metadata": {},
   "outputs": [],
   "source": [
    "database.list_all()"
   ]
  },
  {
   "cell_type": "code",
   "execution_count": null,
   "id": "ede587db",
   "metadata": {},
   "outputs": [],
   "source": [
    "class User_Verifi:\n",
    "    def __init__(self):\n",
    "        self.users = []\n",
    "    def insert(self, user):\n",
    "        "
   ]
  },
  {
   "cell_type": "code",
   "execution_count": null,
   "id": "a7fef10e",
   "metadata": {},
   "outputs": [],
   "source": []
  }
 ],
 "metadata": {
  "kernelspec": {
   "display_name": "Python 3 (ipykernel)",
   "language": "python",
   "name": "python3"
  },
  "language_info": {
   "codemirror_mode": {
    "name": "ipython",
    "version": 3
   },
   "file_extension": ".py",
   "mimetype": "text/x-python",
   "name": "python",
   "nbconvert_exporter": "python",
   "pygments_lexer": "ipython3",
   "version": "3.9.7"
  }
 },
 "nbformat": 4,
 "nbformat_minor": 5
}
