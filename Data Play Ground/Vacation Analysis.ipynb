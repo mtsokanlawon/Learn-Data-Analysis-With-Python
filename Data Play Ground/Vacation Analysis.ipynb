{
 "cells": [
  {
   "cell_type": "markdown",
   "id": "9cfe748a",
   "metadata": {},
   "source": [
    "## Exercise - Data Analysis for Vacation Planning\n",
    "You're planning a vacation, and you need to decide which city you want to visit. You have shortlisted four cities and identified the return flight cost, daily hotel cost, and weekly car rental cost. While renting a car, you need to pay for entire weeks, even if you return the car sooner.\n",
    "\n",
    "| City  | Return Flight (`$`)      | Hotel per day (`$`) | Weekly Car Rental  (`$`) | \n",
    "|-------|--------------------------|---------------------|--------------------------|\n",
    "| Paris |       200                |       20            |          200             |\n",
    "| London|       250                |       30            |          120             |\n",
    "| Dubai |       370                |       15            |          80              |\n",
    "| Mumbai|       450                |       10            |          70              |  \n",
    "\n",
    "Answer the following questions using the data above:\n",
    "1. If you're planning a 1-week long trip, which city should you visit to spend the least amount of money?\n",
    "2. How does the answer to the previous question change if you change the trip's duration to four days, ten days or two weeks?\n",
    "3. If your total budget for the trip is `$1000`, which city should you visit to maximize the duration of your trip? Which city should you visit if you want to minimize the duration?\n",
    "4. How does the answer to the previous question change if your budget is `$600`, `$2000`, or `$1500`?\n",
    "\n",
    "*Hint: To answer these questions, it will help to define a function `cost_of_trip` with relevant inputs like flight cost, hotel rate, car rental rate, and duration of the trip. You may find the `math.ceil` function useful for calculating the total cost of car rental.*"
   ]
  },
  {
   "cell_type": "code",
   "execution_count": null,
   "id": "8bb7452a",
   "metadata": {},
   "outputs": [],
   "source": []
  }
 ],
 "metadata": {
  "kernelspec": {
   "display_name": "Python 3 (ipykernel)",
   "language": "python",
   "name": "python3"
  },
  "language_info": {
   "codemirror_mode": {
    "name": "ipython",
    "version": 3
   },
   "file_extension": ".py",
   "mimetype": "text/x-python",
   "name": "python",
   "nbconvert_exporter": "python",
   "pygments_lexer": "ipython3",
   "version": "3.9.7"
  }
 },
 "nbformat": 4,
 "nbformat_minor": 5
}
