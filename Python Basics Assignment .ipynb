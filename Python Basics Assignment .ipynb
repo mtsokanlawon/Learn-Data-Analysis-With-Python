{
 "cells": [
  {
   "cell_type": "code",
   "execution_count": 1,
   "id": "32e86a12",
   "metadata": {},
   "outputs": [
    {
     "name": "stdout",
     "output_type": "stream",
     "text": [
      "Requirement already satisfied: jovian in /data/user/0/ru.iiec.pydroid3/files/arm-linux-androideabi/lib/python3.9/site-packages (0.2.47)\n",
      "Requirement already satisfied: uuid in /data/user/0/ru.iiec.pydroid3/files/arm-linux-androideabi/lib/python3.9/site-packages (from jovian) (1.30)\n",
      "Requirement already satisfied: requests in /data/user/0/ru.iiec.pydroid3/files/arm-linux-androideabi/lib/python3.9/site-packages (from jovian) (2.28.1)\n",
      "Requirement already satisfied: pyyaml in /data/user/0/ru.iiec.pydroid3/files/arm-linux-androideabi/lib/python3.9/site-packages (from jovian) (6.0)\n",
      "Requirement already satisfied: click in /data/user/0/ru.iiec.pydroid3/files/arm-linux-androideabi/lib/python3.9/site-packages (from jovian) (8.1.3)\n",
      "Requirement already satisfied: idna<4,>=2.5 in /data/user/0/ru.iiec.pydroid3/files/arm-linux-androideabi/lib/python3.9/site-packages (from requests->jovian) (3.4)\n",
      "Requirement already satisfied: urllib3<1.27,>=1.21.1 in /data/user/0/ru.iiec.pydroid3/files/arm-linux-androideabi/lib/python3.9/site-packages (from requests->jovian) (1.26.12)\n",
      "Requirement already satisfied: certifi>=2017.4.17 in /data/user/0/ru.iiec.pydroid3/files/arm-linux-androideabi/lib/python3.9/site-packages (from requests->jovian) (2022.9.24)\n",
      "Requirement already satisfied: charset-normalizer<3,>=2 in /data/user/0/ru.iiec.pydroid3/files/arm-linux-androideabi/lib/python3.9/site-packages (from requests->jovian) (2.1.1)\n",
      "\u001b[33mWARNING: You are using pip version 21.2.4; however, version 23.0.1 is available.\n",
      "You should consider upgrading via the '/data/user/0/ru.iiec.pydroid3/files/arm-linux-androideabi/bin/python3.9 -m pip install --upgrade pip' command.\u001b[0m\n",
      "Note: you may need to restart the kernel to use updated packages.\n"
     ]
    }
   ],
   "source": [
    "pip install jovian --upgrade"
   ]
  },
  {
   "cell_type": "markdown",
   "id": "b7a98428",
   "metadata": {},
   "source": [
    "## Problem 1 - Variables and Data Types\n",
    "**Q1: Assign your name to the variable `name`.**"
   ]
  },
  {
   "cell_type": "code",
   "execution_count": 2,
   "id": "e14379c7",
   "metadata": {},
   "outputs": [],
   "source": [
    "name = \"Mercy\""
   ]
  },
  {
   "cell_type": "markdown",
   "id": "4521976d",
   "metadata": {},
   "source": [
    "**Q2: Assign your age (real or fake) to the variable `age`.**"
   ]
  },
  {
   "cell_type": "code",
   "execution_count": 3,
   "id": "2e46aec4",
   "metadata": {},
   "outputs": [],
   "source": [
    "age = 17"
   ]
  },
  {
   "cell_type": "markdown",
   "id": "2ce152c1",
   "metadata": {},
   "source": [
    "**Q3: Assign a boolean value to the variable `has_android_phone`.**"
   ]
  },
  {
   "cell_type": "code",
   "execution_count": 4,
   "id": "3abea0e0",
   "metadata": {},
   "outputs": [],
   "source": [
    "has_android_phone = True"
   ]
  },
  {
   "cell_type": "markdown",
   "id": "d430e0f6",
   "metadata": {},
   "source": [
    "You can check the values of these variables by running the next cell."
   ]
  },
  {
   "cell_type": "code",
   "execution_count": 5,
   "id": "4ac69758",
   "metadata": {},
   "outputs": [
    {
     "data": {
      "text/plain": [
       "('Mercy', 17, True)"
      ]
     },
     "execution_count": 5,
     "metadata": {},
     "output_type": "execute_result"
    }
   ],
   "source": [
    "name, age, has_android_phone"
   ]
  },
  {
   "cell_type": "markdown",
   "id": "8c2f0260",
   "metadata": {},
   "source": [
    "**Q4: Create a dictionary `person` with keys `\"Name\"`, `\"Age\"`, `\"HasAndroidPhone\"` and values using the variables defined above.**"
   ]
  },
  {
   "cell_type": "code",
   "execution_count": 6,
   "id": "347e42f9",
   "metadata": {},
   "outputs": [],
   "source": [
    "person = {\"Name\":\"Mercy\",\n",
    "          \"Age\":\"17\",\n",
    "          \"HasAndroidPhone\":True\n",
    "         }\n"
   ]
  },
  {
   "cell_type": "markdown",
   "id": "3cca0a4f",
   "metadata": {},
   "source": [
    "Let's use the `person` dictionary to print a nice message."
   ]
  },
  {
   "cell_type": "code",
   "execution_count": 7,
   "id": "02b2bdcc",
   "metadata": {},
   "outputs": [
    {
     "name": "stdout",
     "output_type": "stream",
     "text": [
      "It is  True  that  Mercy ,Age 17 , has an android phone\n"
     ]
    }
   ],
   "source": [
    "print(\"It is \", person[\"HasAndroidPhone\"], \" that \", person[\"Name\"],\",Age\", person[\"Age\"], \", has an android phone\") \n"
   ]
  },
  {
   "cell_type": "markdown",
   "id": "5f4ff21c",
   "metadata": {},
   "source": [
    "**Q4b (Optional): Use a `for` loop to display the `type` of each value stored against each key in `person`.**\n",
    "Here's the expected output for the key `\"Name\"`: \n",
    "```\n",
    "The key \"Name\" has the value \"Derek\" of the type \"<class 'str'>\"\n",
    "```"
   ]
  },
  {
   "cell_type": "code",
   "execution_count": 8,
   "id": "89403f3e",
   "metadata": {},
   "outputs": [
    {
     "name": "stdout",
     "output_type": "stream",
     "text": [
      "The key Name has the value Mercy of the type <class 'str'>\n",
      "The key Age has the value 17 of the type <class 'str'>\n",
      "The key HasAndroidPhone has the value True of the type <class 'bool'>\n"
     ]
    }
   ],
   "source": [
    "for i in person:\n",
    "    print(\"The key\", i, \"has the value\", person[i], \"of the type\", type(person[i]))\n",
    "        "
   ]
  },
  {
   "cell_type": "markdown",
   "id": "5341c8a8",
   "metadata": {},
   "source": [
    "Now that you've solved one problem, it would be a good idea to record a snapshot of your notebook."
   ]
  },
  {
   "cell_type": "markdown",
   "id": "42d0e6ac",
   "metadata": {},
   "source": [
    "## Problem 2 - Working with Lists\n",
    "**Q5: Create a list containing the following 3 elements:**\n",
    "* your favorite color\n",
    "* the number of pets you have\n",
    "* a boolean value describing whether you have previous programming experience"
   ]
  },
  {
   "cell_type": "code",
   "execution_count": 1,
   "id": "29356e54",
   "metadata": {},
   "outputs": [],
   "source": [
    "my_list = [\"blue\", 0, True]\n"
   ]
  },
  {
   "cell_type": "markdown",
   "id": "c2d84cad",
   "metadata": {},
   "source": [
    "Let's see what the list looks like:"
   ]
  },
  {
   "cell_type": "code",
   "execution_count": 10,
   "id": "6796e71d",
   "metadata": {
    "scrolled": true
   },
   "outputs": [
    {
     "data": {
      "text/plain": [
       "['blue', 0, True]"
      ]
     },
     "execution_count": 10,
     "metadata": {},
     "output_type": "execute_result"
    }
   ],
   "source": [
    "my_list"
   ]
  },
  {
   "cell_type": "markdown",
   "id": "f0d7a9fe",
   "metadata": {},
   "source": [
    "**Q6: Complete the following `print` and `if` statements by accessing the appropriate elements from `my_list`.**\n",
    "*Hint*: Use the list indexing notation `[]`."
   ]
  },
  {
   "cell_type": "code",
   "execution_count": 11,
   "id": "c861b7c8",
   "metadata": {},
   "outputs": [
    {
     "name": "stdout",
     "output_type": "stream",
     "text": [
      "I have 0 pet(s).\n"
     ]
    }
   ],
   "source": [
    "print('I have {} pet(s).'.format(my_list[1]))\n"
   ]
  },
  {
   "cell_type": "code",
   "execution_count": 12,
   "id": "e1a5fa0b",
   "metadata": {},
   "outputs": [
    {
     "name": "stdout",
     "output_type": "stream",
     "text": [
      "My favorite color is blue\n"
     ]
    }
   ],
   "source": [
    "print('My favorite color is', my_list[0])\n"
   ]
  },
  {
   "cell_type": "code",
   "execution_count": 13,
   "id": "5e2b00c3",
   "metadata": {},
   "outputs": [
    {
     "name": "stdout",
     "output_type": "stream",
     "text": [
      "I have previous programming experience\n"
     ]
    }
   ],
   "source": [
    "if my_list[2] == True:\n",
    "    print(\"I have previous programming experience\")\n",
    "else:\n",
    "    print(\"I do not have previous programming experience\")"
   ]
  },
  {
   "cell_type": "markdown",
   "id": "c144693c",
   "metadata": {},
   "source": [
    "**Q7: Add your favorite single digit number to the end of the list using the appropriate list method.**"
   ]
  },
  {
   "cell_type": "code",
   "execution_count": 14,
   "id": "cb29a39e",
   "metadata": {},
   "outputs": [],
   "source": [
    "my_list.append(6)"
   ]
  },
  {
   "cell_type": "markdown",
   "id": "3c4b9dfc",
   "metadata": {},
   "source": [
    "Let's see if the number shows up in the list."
   ]
  },
  {
   "cell_type": "code",
   "execution_count": 15,
   "id": "05c57c36",
   "metadata": {},
   "outputs": [
    {
     "data": {
      "text/plain": [
       "['blue', 0, True, 6]"
      ]
     },
     "execution_count": 15,
     "metadata": {},
     "output_type": "execute_result"
    }
   ],
   "source": [
    "my_list\n"
   ]
  },
  {
   "cell_type": "markdown",
   "id": "6ec93ed5",
   "metadata": {},
   "source": [
    "**Q8: Remove the first element of the list, using the appropriate list method.**\n",
    "*Hint*: Check out methods of list here: https://www.w3schools.com/python/python_ref_list.asp"
   ]
  },
  {
   "cell_type": "code",
   "execution_count": 16,
   "id": "d7cf5a1d",
   "metadata": {},
   "outputs": [],
   "source": [
    "my_list.remove(\"blue\")"
   ]
  },
  {
   "cell_type": "code",
   "execution_count": 17,
   "id": "e0cb5925",
   "metadata": {},
   "outputs": [
    {
     "data": {
      "text/plain": [
       "[0, True, 6]"
      ]
     },
     "execution_count": 17,
     "metadata": {},
     "output_type": "execute_result"
    }
   ],
   "source": [
    "my_list"
   ]
  },
  {
   "cell_type": "markdown",
   "id": "e4104b83",
   "metadata": {},
   "source": [
    "**Q9: Complete the `print` statement below to display the number of elements in `my_list`.**"
   ]
  },
  {
   "cell_type": "code",
   "execution_count": 18,
   "id": "cce136ee",
   "metadata": {},
   "outputs": [
    {
     "name": "stdout",
     "output_type": "stream",
     "text": [
      "The list has 3 elements.\n"
     ]
    }
   ],
   "source": [
    "print(\"The list has {} elements.\".format(len(my_list)))\n"
   ]
  },
  {
   "cell_type": "markdown",
   "id": "929143c0",
   "metadata": {},
   "source": [
    "Well done, you're making good progress! Save your work before continuing"
   ]
  },
  {
   "cell_type": "markdown",
   "id": "bde507aa",
   "metadata": {},
   "source": [
    "## Problem 3 - Conditions and loops\n",
    "**Q10: Calculate and display the sum of all the numbers divisible by 7 between 18 and 534 i.e. `21+28+35+...+525+532`**.\n",
    "*Hint*: One way to do this is to loop over a `range` using `for` and use an `if` statement inside it."
   ]
  },
  {
   "cell_type": "code",
   "execution_count": 59,
   "id": "c2d08a1f",
   "metadata": {},
   "outputs": [],
   "source": [
    "# store the final answer in this variable\n",
    "sum_of_numbers = 0\n",
    "# perform the calculation here \n",
    "for i in range(18,535):\n",
    "    if (i%7 == 0):\n",
    "        sum_of_numbers += i \n",
    "    \n"
   ]
  },
  {
   "cell_type": "code",
   "execution_count": 60,
   "id": "675cc877",
   "metadata": {},
   "outputs": [
    {
     "name": "stdout",
     "output_type": "stream",
     "text": [
      "The sum of all the numbers divisible by 7 between 18 and 534 is 20461\n"
     ]
    }
   ],
   "source": [
    "print('The sum of all the numbers divisible by 7 between 18 and 534 is', sum_of_numbers)"
   ]
  },
  {
   "cell_type": "markdown",
   "id": "05fb79b3",
   "metadata": {},
   "source": [
    "If you are not able to figure out the solution to this problem, you can ask for hints on the community forum: https://jovian.ml/forum/t/assignment-1-python-practice/7761 . Remember to save your work before moving forward."
   ]
  },
  {
   "cell_type": "markdown",
   "id": "a3b85f38",
   "metadata": {},
   "source": [
    "## Problem 4 - Flying to the Bahamas\n",
    "**Q11: A travel company wants to fly a plane to the Bahamas. Flying the plane costs 5000 dollars. So far, 29 people have signed up for the trip. If the company charges 200 dollars per ticket, what is the profit made by the company?**\n",
    "Fill in values or arithmetic expressions for the variables below."
   ]
  },
  {
   "cell_type": "code",
   "execution_count": 20,
   "id": "778d4ea1",
   "metadata": {},
   "outputs": [],
   "source": [
    "cost_of_flying_plane = 5000"
   ]
  },
  {
   "cell_type": "code",
   "execution_count": 21,
   "id": "0d6dec59",
   "metadata": {},
   "outputs": [],
   "source": [
    "price_of_ticket = 200"
   ]
  },
  {
   "cell_type": "code",
   "execution_count": 22,
   "id": "a7a29622",
   "metadata": {},
   "outputs": [],
   "source": [
    "number_of_passengers = 29"
   ]
  },
  {
   "cell_type": "code",
   "execution_count": 23,
   "id": "78974e4c",
   "metadata": {},
   "outputs": [],
   "source": [
    "#To get total fund gotten.\n",
    "fund1 = price_of_ticket * number_of_passengers\n"
   ]
  },
  {
   "cell_type": "code",
   "execution_count": 24,
   "id": "e3eb5742",
   "metadata": {},
   "outputs": [],
   "source": [
    "profit = (fund1 - cost_of_flying_plane) \n",
    "          "
   ]
  },
  {
   "cell_type": "code",
   "execution_count": 25,
   "id": "0274d52b",
   "metadata": {},
   "outputs": [
    {
     "name": "stdout",
     "output_type": "stream",
     "text": [
      "The company makes of a profit of 800 dollars\n"
     ]
    }
   ],
   "source": [
    "print('The company makes of a profit of {} dollars'.format(profit))"
   ]
  },
  {
   "cell_type": "markdown",
   "id": "38c7fc80",
   "metadata": {},
   "source": [
    "**Q11b (Optional): Out of the 29 people who took the flight, only 12 buy tickets to return from the Bahamas on the same plane. If the flying the plane back also costs 5000 dollars, and does the company make an overall profit or loss? The company charges the same fee of 200 dollars per ticket for the return flight.**\n",
    "Use an `if` statement to display the result."
   ]
  },
  {
   "cell_type": "code",
   "execution_count": 26,
   "id": "7d3a3542",
   "metadata": {},
   "outputs": [],
   "source": [
    "return_ticket_buyers = 12"
   ]
  },
  {
   "cell_type": "code",
   "execution_count": 27,
   "id": "8df98aad",
   "metadata": {},
   "outputs": [],
   "source": [
    "#To get total fund gotten for return.\n",
    "fund2 = price_of_ticket * return_ticket_buyers\n"
   ]
  },
  {
   "cell_type": "code",
   "execution_count": 28,
   "id": "4d8011a7",
   "metadata": {},
   "outputs": [
    {
     "name": "stdout",
     "output_type": "stream",
     "text": [
      "-1800\n"
     ]
    }
   ],
   "source": [
    "# this is optional\n",
    "overall_profit_loss = ((fund1 + fund2)-(2*cost_of_flying_plane))\n",
    "print(overall_profit_loss)\n",
    "                        "
   ]
  },
  {
   "cell_type": "code",
   "execution_count": 29,
   "id": "3d65c317",
   "metadata": {},
   "outputs": [
    {
     "name": "stdout",
     "output_type": "stream",
     "text": [
      "The company makes an overall loss of 1800 dollars\n"
     ]
    }
   ],
   "source": [
    "# this is optional\n",
    "if overall_profit_loss > 0:\n",
    "    print(\"The company makes an overall profit of {} dollars\".format(-(overall_profit_loss)))\n",
    "else:\n",
    "    print(\"The company makes an overall loss of {} dollars\".format(-(overall_profit_loss)))\n",
    "          "
   ]
  },
  {
   "cell_type": "markdown",
   "id": "16f86b86",
   "metadata": {},
   "source": [
    "Great work so far! Want to take a break? Remember to save and upload your notebook to record your progress."
   ]
  },
  {
   "cell_type": "markdown",
   "id": "fcc81419",
   "metadata": {},
   "source": [
    "## Problem 5 - Twitter Sentiment Analysis\n",
    "Are your ready to perform some *Data Analysis with Python*? In this problem, we'll analyze some fictional tweets and find out whether the overall sentiment of Twitter users is happy or sad. This is a simplified version of an important real world problem called *sentiment analysis*.\n",
    "Before we begin, we need a list of tweets to analyze. We're picking a small number of tweets here, but the exact same analysis can also be done for thousands, or even millions of tweets. The collection of data that we perform analysis on is often called a *dataset*."
   ]
  },
  {
   "cell_type": "code",
   "execution_count": 1,
   "id": "a91485bd",
   "metadata": {},
   "outputs": [],
   "source": [
    "tweets = [\n",
    "    \"Wow, what a great day today!! #sunshine\",\n",
    "    \"I feel sad about the things going on around us. #covid19\",\n",
    "    \"I'm really excited to learn Python with @JovianML #zerotopandas\",\n",
    "    \"This is a really nice song. #linkinpark\",\n",
    "    \"The python programming language is useful for data science\",\n",
    "    \"Why do bad things happen to me?\",\n",
    "    \"Apple announces the release of the new iPhone 12. Fans are excited.\",\n",
    "    \"Spent my day with family!! #happy\",\n",
    "    \"Check out my blog post on common string operations in Python. #zerotopandas\",\n",
    "    \"Freecodecamp has great coding tutorials. #skillup\"\n",
    "]"
   ]
  },
  {
   "cell_type": "markdown",
   "id": "c2e13cc8",
   "metadata": {},
   "source": [
    "Let's begin by answering a very simple but important question about our dataset.\n",
    "**Q12: How many tweets does the dataset contain?**"
   ]
  },
  {
   "cell_type": "code",
   "execution_count": 7,
   "id": "bcf345a5",
   "metadata": {},
   "outputs": [
    {
     "data": {
      "text/plain": [
       "10"
      ]
     },
     "execution_count": 7,
     "metadata": {},
     "output_type": "execute_result"
    }
   ],
   "source": [
    "number_of_tweets = len(tweets)\n",
    "number_of_tweets"
   ]
  },
  {
   "cell_type": "markdown",
   "id": "c2b8c2ac",
   "metadata": {},
   "source": [
    "Let's create two lists of words: `happy_words` and `sad_words`. We will use these to check if a tweet is happy or sad."
   ]
  },
  {
   "cell_type": "code",
   "execution_count": 32,
   "id": "dadec396",
   "metadata": {},
   "outputs": [],
   "source": [
    "happy_words = ['great', 'excited', 'happy', 'nice', 'wonderful', 'amazing', 'good', 'best']"
   ]
  },
  {
   "cell_type": "code",
   "execution_count": 33,
   "id": "9c0cc3ba",
   "metadata": {},
   "outputs": [],
   "source": [
    "sad_words = ['sad', 'bad', 'tragic', 'unhappy', 'worst']"
   ]
  },
  {
   "cell_type": "markdown",
   "id": "a97e08aa",
   "metadata": {},
   "source": [
    "To identify whether a tweet is happy, we can simply check if contains any of the words from `happy_words`. Here's an example:"
   ]
  },
  {
   "cell_type": "code",
   "execution_count": 34,
   "id": "afb900df",
   "metadata": {},
   "outputs": [],
   "source": [
    "sample_tweet = tweets[0]"
   ]
  },
  {
   "cell_type": "code",
   "execution_count": 35,
   "id": "10711396",
   "metadata": {},
   "outputs": [
    {
     "data": {
      "text/plain": [
       "'Wow, what a great day today!! #sunshine'"
      ]
     },
     "execution_count": 35,
     "metadata": {},
     "output_type": "execute_result"
    }
   ],
   "source": [
    "sample_tweet"
   ]
  },
  {
   "cell_type": "code",
   "execution_count": 36,
   "id": "02273c80",
   "metadata": {},
   "outputs": [],
   "source": [
    "is_tweet_happy = False\n",
    "# Get a word from happy_words\n",
    "for word in happy_words:\n",
    "    # Check if the tweet contains the word\n",
    "    if word in sample_tweet:\n",
    "        # Word found! Mark the tweet as happy\n",
    "        is_tweet_happy = True"
   ]
  },
  {
   "cell_type": "markdown",
   "id": "4ce93ddc",
   "metadata": {},
   "source": [
    "Do you understand what we're doing above? \n",
    "> For each word in the list of happy words, we check if is a part of the selected tweet. If the word is indded a part of the tweet, we set the variable `is_tweet_happy` to `True`. "
   ]
  },
  {
   "cell_type": "code",
   "execution_count": 37,
   "id": "2a41913d",
   "metadata": {},
   "outputs": [
    {
     "data": {
      "text/plain": [
       "True"
      ]
     },
     "execution_count": 37,
     "metadata": {},
     "output_type": "execute_result"
    }
   ],
   "source": [
    "is_tweet_happy"
   ]
  },
  {
   "cell_type": "markdown",
   "id": "ae720802",
   "metadata": {},
   "source": [
    "**Q13: Determine the number of tweets in the dataset that can be classified as happy.**\n",
    "*Hint*: You'll need to use a loop inside another loop to do this. Use the code from the example shown above."
   ]
  },
  {
   "cell_type": "code",
   "execution_count": 38,
   "id": "b5115d10",
   "metadata": {
    "scrolled": false
   },
   "outputs": [],
   "source": [
    "# store the final answer in this variable\n",
    "number_of_happy_tweets = 0\n",
    "# perform the calculations here \n",
    "# loop through the list of tweets\n",
    "for tweet in tweets:\n",
    "    #iterate through happy words\n",
    "    for word in happy_words:\n",
    "        #check for happy_word in tweet\n",
    "        if word in tweet:\n",
    "            #increment no_of_happy_tweets\n",
    "            number_of_happy_tweets += 1\n",
    "        \n",
    "   "
   ]
  },
  {
   "cell_type": "code",
   "execution_count": 39,
   "id": "7220de85",
   "metadata": {},
   "outputs": [
    {
     "name": "stdout",
     "output_type": "stream",
     "text": [
      "Number of happy tweets: 6\n"
     ]
    }
   ],
   "source": [
    "print(\"Number of happy tweets:\", number_of_happy_tweets)"
   ]
  },
  {
   "cell_type": "markdown",
   "id": "8edf8dc4",
   "metadata": {},
   "source": [
    "If you are not able to figure out the solution to this problem, you can ask for hints on the community forum: https://jovian.ml/forum/t/assignment-1-python-practice/7761 . Also try adding `print` statements inside your loops to inspect variables and make sure your logic is correct."
   ]
  },
  {
   "cell_type": "markdown",
   "id": "e1bb6637",
   "metadata": {},
   "source": [
    "**Q14: What fraction of the total number of tweets are happy?**\n",
    "For example, if 2 out of 10 tweets are happy, then the answer is `2/10` i.e. `0.2`."
   ]
  },
  {
   "cell_type": "code",
   "execution_count": 40,
   "id": "dc72bd55",
   "metadata": {},
   "outputs": [],
   "source": [
    "happy_fraction = number_of_happy_tweets / number_of_tweets"
   ]
  },
  {
   "cell_type": "code",
   "execution_count": 41,
   "id": "c23b14a6",
   "metadata": {},
   "outputs": [
    {
     "name": "stdout",
     "output_type": "stream",
     "text": [
      "The fraction of happy tweets is: 0.6\n"
     ]
    }
   ],
   "source": [
    "print(\"The fraction of happy tweets is:\", happy_fraction)"
   ]
  },
  {
   "cell_type": "markdown",
   "id": "48d980a1",
   "metadata": {},
   "source": [
    "To identify whether a tweet is sad, we can simply check if contains any of the words from `sad_words`.\n",
    "**Q15: Determine the number of tweets in the dataset that can be classified as sad.**"
   ]
  },
  {
   "cell_type": "code",
   "execution_count": 42,
   "id": "16c1deec",
   "metadata": {},
   "outputs": [],
   "source": [
    "# store the final answer in this variable\n",
    "number_of_sad_tweets = 0\n",
    "# perform the calculations here \n",
    "# loop through the tweet list\n",
    "for tweet in tweets:\n",
    "    # iterate through sad_words\n",
    "    for word in sad_words:\n",
    "        # check for sad_word in tweet\n",
    "        if word in tweet:\n",
    "            #increment no_of_sad_tweets.\n",
    "            number_of_sad_tweets += 1\n",
    " \n",
    "\n",
    "          "
   ]
  },
  {
   "cell_type": "code",
   "execution_count": 43,
   "id": "14ab9759",
   "metadata": {},
   "outputs": [
    {
     "name": "stdout",
     "output_type": "stream",
     "text": [
      "Number of sad tweets: 2\n"
     ]
    }
   ],
   "source": [
    "print(\"Number of sad tweets:\", number_of_sad_tweets)"
   ]
  },
  {
   "cell_type": "markdown",
   "id": "a6c7f9f4",
   "metadata": {},
   "source": [
    "**Q16: What fraction of the total number of tweets are sad?**"
   ]
  },
  {
   "cell_type": "code",
   "execution_count": 44,
   "id": "67f3f92e",
   "metadata": {},
   "outputs": [],
   "source": [
    "sad_fraction = number_of_sad_tweets / number_of_tweets"
   ]
  },
  {
   "cell_type": "code",
   "execution_count": 45,
   "id": "8062c023",
   "metadata": {},
   "outputs": [
    {
     "name": "stdout",
     "output_type": "stream",
     "text": [
      "The fraction of sad tweets is: 0.2\n"
     ]
    }
   ],
   "source": [
    "print(\"The fraction of sad tweets is:\", sad_fraction)"
   ]
  },
  {
   "cell_type": "markdown",
   "id": "1e4391d2",
   "metadata": {},
   "source": [
    "The rest of this problem is optional. Let's save your work before continuing."
   ]
  },
  {
   "cell_type": "markdown",
   "id": "e7401c3a",
   "metadata": {},
   "source": [
    "Great work, even with some basic analysis, we already know a lot about the sentiment of the tweets given to us. Let us now define a metric called \"sentiment score\", to summarize the overall sentiment of the tweets.\n",
    "\n",
    "**Q16b (Optional): Calculate the sentiment score, which is defined as the difference betweek the fraction of happy tweets and the fraction of sad tweets.**"
   ]
  },
  {
   "cell_type": "code",
   "execution_count": 46,
   "id": "30fe1f2f",
   "metadata": {},
   "outputs": [],
   "source": [
    "sentiment_score = happy_fraction - sad_fraction"
   ]
  },
  {
   "cell_type": "code",
   "execution_count": 47,
   "id": "e917a1e7",
   "metadata": {},
   "outputs": [
    {
     "name": "stdout",
     "output_type": "stream",
     "text": [
      "The sentiment score for the given tweets is 0.39999999999999997\n"
     ]
    }
   ],
   "source": [
    "print(\"The sentiment score for the given tweets is\", sentiment_score)"
   ]
  },
  {
   "cell_type": "markdown",
   "id": "87d63a00",
   "metadata": {},
   "source": [
    "In a real world scenario, we could calculate & record the sentiment score for all the tweets sent out every day. This information can be used to plot a graph and study the trends in the changing sentiment of the world. The following graph was creating using the Python data visualization library `matplotlib`, which we'll cover later in the course.\n",
    "<img src=\"https://i.imgur.com/6CCIwCb.png\" style=\"width:400px\">\n",
    "What does the sentiment score represent? Based on the value of the sentiment score, can you identify if the overall sentiment of the dataset is happy or sad?\n",
    "**Q16c (Optional): Display whether the overall sentiment of the given dataset of tweets is happy or sad, using the sentiment score.**"
   ]
  },
  {
   "cell_type": "code",
   "execution_count": 48,
   "id": "06fccc77",
   "metadata": {},
   "outputs": [
    {
     "name": "stdout",
     "output_type": "stream",
     "text": [
      "The overall sentiment is happy\n"
     ]
    }
   ],
   "source": [
    "if sentiment_score > 0:\n",
    "    print(\"The overall sentiment is happy\")\n",
    "else:\n",
    "    print(\"The overall sentiment is sad\")"
   ]
  },
  {
   "cell_type": "markdown",
   "id": "08b7d6b6",
   "metadata": {},
   "source": [
    "Finally, it's also important to track how many tweets are neutral i.e. neither happy nor sad. If a large fraction of tweets are marked neutral, maybe we need to improve our lists of happy and sad words. \n",
    "**Q16d (Optional): What is the fraction of tweets that are neutral i.e. neither happy nor sad.**"
   ]
  },
  {
   "cell_type": "code",
   "execution_count": 49,
   "id": "316d81e3",
   "metadata": {},
   "outputs": [
    {
     "data": {
      "text/plain": [
       "['sad',\n",
       " 'bad',\n",
       " 'tragic',\n",
       " 'unhappy',\n",
       " 'worst',\n",
       " 'great',\n",
       " 'excited',\n",
       " 'happy',\n",
       " 'nice',\n",
       " 'wonderful',\n",
       " 'amazing',\n",
       " 'good',\n",
       " 'best']"
      ]
     },
     "execution_count": 49,
     "metadata": {},
     "output_type": "execute_result"
    }
   ],
   "source": [
    "# currate words that depict emotion \n",
    "# concatenate sad_words and happy_words.\n",
    "emotional_words = sad_words + happy_words\n",
    "emotional_words\n"
   ]
  },
  {
   "cell_type": "code",
   "execution_count": 50,
   "id": "b9ba516d",
   "metadata": {},
   "outputs": [],
   "source": [
    "# store the final answer in this variable\n",
    "number_of_neutral_tweets = 0\n",
    "# perform the calculation here\n",
    "number_of_emotional_tweets = 0\n",
    "# loop through tweets \n",
    "for tweet in tweets:\n",
    "    #iterate through emotional words\n",
    "    for word in emotional_words:\n",
    "        #check for word in tweet \n",
    "        if word in tweet:\n",
    "            number_of_emotional_tweets += 1\n",
    "# Get neutral_tweets( non_emotional_tweets)          \n",
    "number_of_neutral_tweets = number_of_tweets - number_of_emotional_tweets        \n",
    "        "
   ]
  },
  {
   "cell_type": "code",
   "execution_count": 51,
   "id": "22cbd137",
   "metadata": {},
   "outputs": [
    {
     "name": "stdout",
     "output_type": "stream",
     "text": [
      "The number of neutral tweets is 2\n"
     ]
    }
   ],
   "source": [
    "print(\"The number of neutral tweets is\", number_of_neutral_tweets)"
   ]
  },
  {
   "cell_type": "code",
   "execution_count": 52,
   "id": "41aa21e0",
   "metadata": {},
   "outputs": [],
   "source": [
    "neutral_fraction = number_of_neutral_tweets / number_of_tweets"
   ]
  },
  {
   "cell_type": "code",
   "execution_count": 53,
   "id": "9e7d6698",
   "metadata": {},
   "outputs": [
    {
     "name": "stdout",
     "output_type": "stream",
     "text": [
      "The fraction of neutral tweets is 0.2\n"
     ]
    }
   ],
   "source": [
    "print('The fraction of neutral tweets is', neutral_fraction)"
   ]
  },
  {
   "cell_type": "markdown",
   "id": "6d5b045e",
   "metadata": {},
   "source": [
    "Ponder upon these questions and try some experiments to hone your skills further:\n",
    "* What are the limitations of our approach? When will it go wrong or give incorrect results?\n",
    "* How can we improve our approach to address the limitations?\n",
    "* What are some other questions you would like to ask, given a list of tweets?\n",
    "* Try collecting some real tweets from your Twitter timeline and repeat this analysis. Do the results make sense?\n",
    "**IMPORTANT NOTE**: If you want to try out these experiments, please create a new notebook using the \"New Notebook\" button on your Jovian.ml profile, to avoid making unintended changes to your assignment submission notebook."
   ]
  },
  {
   "cell_type": "markdown",
   "id": "76348324",
   "metadata": {},
   "source": [
    "## Submission \n",
    "Congratulations on making it this far! You've reached the end of this assignment, and you just completed your first data analysis problem. It's time to record one final version of your notebook for submission.\n",
    "Make a submission here by filling the submission form: https://jovian.ml/learn/data-analysis-with-python-zero-to-pandas/assignment/assignment-1-python-basics-practice"
   ]
  }
 ],
 "metadata": {
  "kernelspec": {
   "display_name": "Python 3 (ipykernel)",
   "language": "python",
   "name": "python3"
  },
  "language_info": {
   "codemirror_mode": {
    "name": "ipython",
    "version": 3
   },
   "file_extension": ".py",
   "mimetype": "text/x-python",
   "name": "python",
   "nbconvert_exporter": "python",
   "pygments_lexer": "ipython3",
   "version": "3.9.7"
  }
 },
 "nbformat": 4,
 "nbformat_minor": 5
}
